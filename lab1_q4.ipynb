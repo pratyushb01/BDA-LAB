{
 "cells": [
  {
   "cell_type": "code",
   "execution_count": null,
   "id": "8c9eaefa",
   "metadata": {},
   "outputs": [
    {
     "name": "stderr",
     "output_type": "stream",
     "text": [
      "WARNING: Using incubator modules: jdk.incubator.vector\n",
      "Using Spark's default log4j profile: org/apache/spark/log4j2-defaults.properties\n",
      "25/07/23 15:18:53 WARN Utils: Your hostname, dbl-24, resolves to a loopback address: 127.0.1.1; using 172.16.58.159 instead (on interface eno1)\n",
      "25/07/23 15:18:53 WARN Utils: Set SPARK_LOCAL_IP if you need to bind to another address\n",
      "Using Spark's default log4j profile: org/apache/spark/log4j2-defaults.properties\n",
      "Setting default log level to \"WARN\".\n",
      "To adjust logging level use sc.setLogLevel(newLevel). For SparkR, use setLogLevel(newLevel).\n",
      "25/07/23 15:18:53 WARN NativeCodeLoader: Unable to load native-hadoop library for your platform... using builtin-java classes where applicable\n",
      "25/07/23 15:18:53 WARN Utils: Service 'SparkUI' could not bind on port 4040. Attempting port 4041.\n",
      "25/07/23 15:18:53 WARN Utils: Service 'SparkUI' could not bind on port 4041. Attempting port 4042.\n"
     ]
    }
   ],
   "source": [
    "from pyspark import SparkContext\n",
    "import \n",
    "sc=SparkContext(\"local\",\"PySpark RDD Example\")"
   ]
  },
  {
   "cell_type": "code",
   "execution_count": 6,
   "id": "bcbe4cf5",
   "metadata": {},
   "outputs": [],
   "source": [
    "from pyspark.sql import SparkSession\n",
    "spark=SparkSession.builder.appName(\"Read CSV Placement Dataset\").getOrCreate()"
   ]
  },
  {
   "cell_type": "code",
   "execution_count": 26,
   "id": "918936cb",
   "metadata": {},
   "outputs": [],
   "source": [
    "df=spark.read.csv(\"/home/5AIMLA2/Downloads/college_student_placement_dataset.csv\",header=True,inferSchema=True,sep=\",\")"
   ]
  },
  {
   "cell_type": "code",
   "execution_count": 27,
   "id": "997138c6",
   "metadata": {},
   "outputs": [
    {
     "name": "stdout",
     "output_type": "stream",
     "text": [
      "+----------+---+---------------+-----+--------------------+---------------------+----------------------+--------------------+------------------+---------+\n",
      "|College_ID| IQ|Prev_Sem_Result| CGPA|Academic_Performance|Internship_Experience|Extra_Curricular_Score|Communication_Skills|Projects_Completed|Placement|\n",
      "+----------+---+---------------+-----+--------------------+---------------------+----------------------+--------------------+------------------+---------+\n",
      "|   CLG0030|107|           6.61| 6.28|                   8|                   No|                     8|                   8|                 4|       No|\n",
      "|   CLG0061| 97|           5.52| 5.37|                   8|                   No|                     7|                   8|                 0|       No|\n",
      "|   CLG0036|109|           5.36| 5.83|                   9|                   No|                     3|                   1|                 1|       No|\n",
      "|   CLG0055|122|           5.47| 5.75|                   6|                  Yes|                     1|                   6|                 1|       No|\n",
      "|   CLG0004| 96|           7.91| 7.69|                   7|                   No|                     8|                  10|                 2|       No|\n",
      "|   CLG0015| 96|           5.26| 5.32|                   7|                   No|                     5|                   8|                 0|       No|\n",
      "|   CLG0071|123|           6.68| 6.58|                   5|                   No|                     7|                   8|                 2|      Yes|\n",
      "|   CLG0096|111|           8.77| 8.76|                   7|                   No|                     3|                   1|                 2|      Yes|\n",
      "|   CLG0097| 92|           6.47| 6.33|                   9|                   No|                     7|                   8|                 5|       No|\n",
      "|   CLG0057|108|           8.82|  8.6|                   4|                   No|                     5|                   9|                 1|       No|\n",
      "|   CLG0063| 93|           8.73|  8.9|                   2|                  Yes|                     5|                   6|                 0|       No|\n",
      "|   CLG0077| 93|           6.23| 6.51|                   8|                   No|                     5|                   7|                 4|       No|\n",
      "|   CLG0064|103|           8.64| 9.01|                   7|                  Yes|                     8|                   6|                 1|       No|\n",
      "|   CLG0017| 71|           8.74|  8.4|                   6|                   No|                     0|                   5|                 2|       No|\n",
      "|   CLG0053| 74|           6.99| 7.31|                   7|                   No|                     0|                   1|                 2|       No|\n",
      "|   CLG0040| 91|           6.05|  5.8|                   3|                   No|                     4|                   2|                 3|       No|\n",
      "|   CLG0070| 84|           7.61| 7.54|                   6|                   No|                     0|                  10|                 0|       No|\n",
      "|   CLG0050|104|           9.61|10.01|                  10|                  Yes|                     9|                   2|                 4|       No|\n",
      "|   CLG0068| 86|            8.2| 8.15|                   7|                   No|                     8|                   9|                 4|      Yes|\n",
      "|   CLG0015| 78|           5.86| 5.56|                   7|                  Yes|                     3|                   6|                 2|       No|\n",
      "+----------+---+---------------+-----+--------------------+---------------------+----------------------+--------------------+------------------+---------+\n",
      "only showing top 20 rows\n"
     ]
    }
   ],
   "source": [
    "df.show()"
   ]
  },
  {
   "cell_type": "code",
   "execution_count": 23,
   "id": "b5594f28",
   "metadata": {},
   "outputs": [
    {
     "name": "stdout",
     "output_type": "stream",
     "text": [
      "root\n",
      " |-- College_ID: string (nullable = true)\n",
      " |-- IQ: integer (nullable = true)\n",
      " |-- Prev_Sem_Result: double (nullable = true)\n",
      " |-- CGPA: double (nullable = true)\n",
      " |-- Academic_Performance: integer (nullable = true)\n",
      " |-- Internship_Experience: string (nullable = true)\n",
      " |-- Extra_Curricular_Score: integer (nullable = true)\n",
      " |-- Communication_Skills: integer (nullable = true)\n",
      " |-- Projects_Completed: integer (nullable = true)\n",
      " |-- Placement: string (nullable = true)\n",
      "\n"
     ]
    }
   ],
   "source": [
    "df.printSchema()"
   ]
  },
  {
   "cell_type": "code",
   "execution_count": 18,
   "id": "6664c4ea",
   "metadata": {},
   "outputs": [
    {
     "data": {
      "text/plain": [
       "DataFrame[summary: string, College_ID: string, IQ: string, Prev_Sem_Result: string, CGPA: string, Academic_Performance: string, Internship_Experience: string, Extra_Curricular_Score: string, Communication_Skills: string, Projects_Completed: string, Placement: string]"
      ]
     },
     "execution_count": 18,
     "metadata": {},
     "output_type": "execute_result"
    }
   ],
   "source": [
    "df.describe()"
   ]
  },
  {
   "cell_type": "code",
   "execution_count": null,
   "id": "278bd44b",
   "metadata": {},
   "outputs": [
    {
     "name": "stdout",
     "output_type": "stream",
     "text": [
      "+-------+------------------+\n",
      "|summary|                IQ|\n",
      "+-------+------------------+\n",
      "|  count|             10000|\n",
      "|   mean|           99.4718|\n",
      "| stddev|15.053101485954143|\n",
      "|    min|                41|\n",
      "|    max|               158|\n",
      "+-------+------------------+\n",
      "\n"
     ]
    }
   ],
   "source": [
    "IQ_stat=df.select(\"IQ\")\n",
    "IQ_stat.describe().show()"
   ]
  },
  {
   "cell_type": "code",
   "execution_count": 30,
   "id": "79c0482f",
   "metadata": {},
   "outputs": [
    {
     "name": "stdout",
     "output_type": "stream",
     "text": [
      "+-------+---------+\n",
      "|summary|Placement|\n",
      "+-------+---------+\n",
      "|  count|    10000|\n",
      "|   mean|     NULL|\n",
      "| stddev|     NULL|\n",
      "|    min|       No|\n",
      "|    max|      Yes|\n",
      "+-------+---------+\n",
      "\n"
     ]
    }
   ],
   "source": [
    "placement_stat=df.select(\"Placement\")\n",
    "placement_stat.describe().show()"
   ]
  }
 ],
 "metadata": {
  "kernelspec": {
   "display_name": "myenv",
   "language": "python",
   "name": "python3"
  },
  "language_info": {
   "codemirror_mode": {
    "name": "ipython",
    "version": 3
   },
   "file_extension": ".py",
   "mimetype": "text/x-python",
   "name": "python",
   "nbconvert_exporter": "python",
   "pygments_lexer": "ipython3",
   "version": "3.11.2"
  }
 },
 "nbformat": 4,
 "nbformat_minor": 5
}
