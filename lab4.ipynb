{
 "cells": [
  {
   "cell_type": "markdown",
   "id": "2eccea4f",
   "metadata": {},
   "source": [
    "## Recommendation System using Pyspark"
   ]
  },
  {
   "cell_type": "code",
   "execution_count": 20,
   "id": "49e0dd3d",
   "metadata": {},
   "outputs": [],
   "source": [
    "from pyspark.sql import SparkSession\n",
    "from pyspark.ml.recommendation import ALS\n",
    "import pyspark.sql.functions as F\n",
    "import pyspark.sql.types as T\n",
    "spark=SparkSession.builder.appName(\"Recommendation\").getOrCreate()"
   ]
  },
  {
   "cell_type": "code",
   "execution_count": 6,
   "id": "029eeddd",
   "metadata": {},
   "outputs": [
    {
     "name": "stdout",
     "output_type": "stream",
     "text": [
      "root\n",
      " |-- helpfulness: string (nullable = true)\n",
      " |-- product_id: string (nullable = true)\n",
      " |-- profile_name: string (nullable = true)\n",
      " |-- review: string (nullable = true)\n",
      " |-- score: double (nullable = true)\n",
      " |-- summary: string (nullable = true)\n",
      " |-- time: long (nullable = true)\n",
      " |-- user_id: string (nullable = true)\n",
      "\n"
     ]
    }
   ],
   "source": [
    "df=spark.read.json('movies.json')\n",
    "df.printSchema()"
   ]
  },
  {
   "cell_type": "code",
   "execution_count": 10,
   "id": "baae2ad1",
   "metadata": {},
   "outputs": [
    {
     "name": "stdout",
     "output_type": "stream",
     "text": [
      "root\n",
      " |-- user_id: string (nullable = true)\n",
      " |-- product_id: string (nullable = true)\n",
      " |-- review: string (nullable = true)\n",
      " |-- score: double (nullable = true)\n",
      "\n"
     ]
    }
   ],
   "source": [
    "df_clean1=df.select(F.col('user_id'),F.col('product_id'),F.col('review'),F.col('score'))\n",
    "df_clean1.printSchema()"
   ]
  },
  {
   "cell_type": "code",
   "execution_count": 33,
   "id": "711ef015",
   "metadata": {},
   "outputs": [
    {
     "name": "stdout",
     "output_type": "stream",
     "text": [
      "+--------------+----------+--------------------+-----+-----------+--------------+\n",
      "|       user_id|product_id|              review|score|user_id_int|product_id_int|\n",
      "+--------------+----------+--------------------+-----+-----------+--------------+\n",
      "|A141HP4LYPWMSR|B003AI2VGA|Synopsis: On the ...|  3.0|    5460385|      51259877|\n",
      "|A328S9RN3U5M68|B003AI2VGA|THE VIRGIN OF JUA...|  3.0|   64843361|      51259877|\n",
      "|A1I7QGUDP043DG|B003AI2VGA|The scenes in thi...|  5.0|    1480848|      51259877|\n",
      "|A1M5405JH9THP9|B003AI2VGA|THE VIRGIN OF JUA...|  3.0|   81925650|      51259877|\n",
      "| ATXL536YX71TR|B003AI2VGA|Informationally, ...|  3.0|   40460580|      51259877|\n",
      "|A3QYDL5CDNYN66|B003AI2VGA|The murders in Ju...|  2.0|   81231482|      51259877|\n",
      "| AQJVNDW6YZFQS|B003AI2VGA|Mexican men are m...|  1.0|   70150525|      51259877|\n",
      "| AD4CDZK7D31XP|B00006HAXW|Over the past few...|  5.0|   97008113|      40695676|\n",
      "|A3Q4S5DFVPB70D|B00006HAXW|I recvd this vide...|  5.0|   26641678|      40695676|\n",
      "|A2P7UB02HAVEPB|B00006HAXW|Wow! When I saw t...|  5.0|   75288382|      40695676|\n",
      "|A2TX99AZKDK0V7|B00006HAXW|I have the Doo Wo...|  4.0|   53511390|      40695676|\n",
      "| AFC8IKR407HSK|B00006HAXW|Having worked in ...|  5.0|   73643713|      40695676|\n",
      "|A1FRPGQYQTAOR1|B00006HAXW|The people who ha...|  5.0|   16049938|      40695676|\n",
      "|A1RSDE90N6RSZF|B00006HAXW|I have all of the...|  5.0|   49895560|      40695676|\n",
      "|A1OUBOGB5970AO|B00006HAXW|The performance o...|  4.0|   55191212|      40695676|\n",
      "|A3NPHQVIY59Y0Y|B00006HAXW|Get it, also get ...|  5.0|   41859013|      40695676|\n",
      "| AFKMBAY28XO8A|B00006HAXW|Excellent, excell...|  5.0|   29851768|      40695676|\n",
      "| A66KMXH9V7OGU|B00006HAXW|This video is awe...|  5.0|   74227826|      40695676|\n",
      "| AFJ27ZV9183B8|B00006HAXW|As I stated in my...|  5.0|   37549869|      40695676|\n",
      "| AXMKAXC0TR9AW|B00006HAXW|I own both the VH...|  5.0|   85150554|      40695676|\n",
      "+--------------+----------+--------------------+-----+-----------+--------------+\n",
      "only showing top 20 rows\n"
     ]
    }
   ],
   "source": [
    "hex_to_big=F.udf(lambda x: int(x,16)%10**8,T.LongType())#converts the hexadecimal to LongType\n",
    "df_clean2=df_clean1.withColumn(\"user_id_int\",hex_to_big(F.sha1('user_id'))) #sha converts alphanumeric to 40 bit hexadecimal\n",
    "df_clean2=df_clean2.withColumn(\"product_id_int\",hex_to_big(F.sha1('product_id')))\n",
    "df_clean2.show(20)\n",
    "\n"
   ]
  },
  {
   "cell_type": "code",
   "execution_count": 41,
   "id": "9e2e25c2",
   "metadata": {},
   "outputs": [
    {
     "name": "stdout",
     "output_type": "stream",
     "text": [
      "+--------------+----------+--------------------+-----+-----------+--------------+----------+\n",
      "|       user_id|product_id|              review|score|user_id_int|product_id_int|prediction|\n",
      "+--------------+----------+--------------------+-----+-----------+--------------+----------+\n",
      "|A2IMLPUXYQJTSY|B00004CQT3|As owners of a Ye...|  5.0|   77910611|      88926809| 4.9416175|\n",
      "| AOIT2QUH8GRGA|B0071AD95K|The whole Passion...|  5.0|   14385231|      77653941| 4.9412055|\n",
      "|A2ON9S58W4AZ1Z|B00004CQT4|This is a great m...|  5.0|   10738950|      87356226| 4.9457555|\n",
      "|A34KFDQ5KBHZA5|B00004CQT3|well,this just go...|  5.0|   97928400|      88926809| 4.9416175|\n",
      "|A31YQQYX9PU04Z|B0071AD95K|Great encourageme...|  4.0|   32226354|      77653941|  3.952964|\n",
      "|A29DLKCN8QWO7B|B000063W1R|This is one of my...|  5.0|   49381282|      87115994|  4.864229|\n",
      "|A2M4H4R4Z7UDZX|B004BH1TN0|I purchased two D...|  5.0|   28985877|       1474096| 4.9314938|\n",
      "| AD4CDZK7D31XP|B00006HAXW|Over the past few...|  5.0|   97008113|      40695676| 4.9468246|\n",
      "|A2CU4L3OK00M23|B000063W1R|There is nothing ...|  5.0|   92584672|      87115994|  4.627875|\n",
      "| A9Q28YTLYREO7|B004BH1TN0|of course it's re...|  4.0|   38382464|       1474096| 3.9520597|\n",
      "|A2R1VN4J5L2ZCO|B00004CQT3|Just like the tit...|  5.0|   99264185|      88926809| 4.9416175|\n",
      "| A4FBBS25X3XEL|B000063W1R|The Count Of Mont...|  5.0|    1526715|      87115994|  4.864229|\n",
      "|A11L5M4MJP00UW|B00004CQT3|I love dogs and I...|  3.0|   88085575|      88926809|  2.926288|\n",
      "| AFJ27ZV9183B8|B00006HAXW|As I stated in my...|  5.0|   37549869|      40695676| 4.9279833|\n",
      "|A1CIW2OEVAJRM2|B00004CQT3|The cover of our ...|  5.0|   24090282|      88926809| 4.8433805|\n",
      "| AWPODHOB4GFWL|B004BH1TN0|Recording with an...|  5.0|   88690215|       1474096| 4.8229814|\n",
      "|A3QYDL5CDNYN66|B003AI2VGA|The murders in Ju...|  2.0|   81231482|      51259877| 1.9143481|\n",
      "|A23Q1T4MXZHFM7|B000063W1R|The Count of Mont...|  3.0|   81898525|      87115994| 2.9954977|\n",
      "|A355WMP0CQBJFX|B000063W1R|this movie is inc...|  5.0|   97559682|      87115994|  4.519191|\n",
      "| ANZNLFBN62YKH|B000063W1R|Richard Harris an...|  5.0|   85567453|      87115994|  4.864229|\n",
      "|A39M64IZTC04G0|B0078V2LCY|Very good movie. ...|  4.0|   93530238|       7101600| 3.9086392|\n",
      "|A27H9DOUGY9FOS|B0078V2LCY|I had heard a lot...|  3.0|   37405336|       7101600| 2.8677866|\n",
      "| ATK3QFC6L1318|B003ZG3GAM|The Reaper is a f...|  5.0|   34711418|      31236319|   4.94509|\n",
      "|A245OASCPKPJHC|B00004CQT4|It's a comedy who...|  4.0|   63798001|      87356226| 3.9566042|\n",
      "|A1M5405JH9THP9|B003AI2VGA|THE VIRGIN OF JUA...|  3.0|   81925650|      51259877|  2.871522|\n",
      "|A1MXSUEA3ZK5UZ|B0071AD95K|This two part vid...|  5.0|   79209590|      77653941| 4.9412055|\n",
      "|A18758S1PUYIDT|B000063W1R|I should have rea...|  4.0|   52527385|      87115994|  4.139014|\n",
      "|A2WFI5XFB7NHHJ|B004BH1TN0|This is a fine pe...|  4.0|   22379151|       1474096| 3.9451947|\n",
      "|A1RSDE90N6RSZF|B00006HAXW|I have all of the...|  5.0|   49895560|      40695676| 4.9468246|\n",
      "|A174WE983H06N4|B00004CQT3|The first time I ...|  5.0|   52664417|      88926809| 4.9416175|\n",
      "|A39I79H1A2A8C3|B004BH1TN0|Kind of bogus req...|  4.0|   21739660|       1474096|  4.005394|\n",
      "|A1R6DF0KOJ0TG6|B004BH1TN0|This is an awesom...|  5.0|   68530674|       1474096| 4.9314938|\n",
      "|A2FX6OHBMQ9545|B000063W1R|The Count of Mont...|  4.0|   79155966|      87115994| 3.8913836|\n",
      "| A7LRQFZW3D9NE|B00004CQT3|The movie still a...|  5.0|   91689645|      88926809| 4.9416175|\n",
      "|A3GX0UO7XXZST2|B00004CQT3|Our family really...|  4.0|   36560683|      88926809| 3.9532943|\n",
      "|A3QIEISBZP4QTV|B000063W1R|Start with great ...|  5.0|   46804664|      87115994|  4.864229|\n",
      "| AH7ZNGM8WOOGN|B00004CQT3|This is by far on...|  5.0|    9104186|      88926809| 4.9416175|\n",
      "|A2582KMXLK2P06|B00004CQT3|I'm sorry to be s...|  3.0|   91691997|      88926809|  2.855873|\n",
      "|A2TTVV34NLMZI8|B00004CQT3|My family loved t...|  5.0|   70159446|      88926809| 4.9416175|\n",
      "| AVQRC2N2SSSYS|B00004CQT4|I won't claim to ...|  4.0|   89064389|      87356226| 3.9566042|\n",
      "|A3ENN12GLNTUAF|B0071AD95K|This DVD is the t...|  5.0|   84074793|      77653941| 4.9468474|\n",
      "|A19O5ETNRJN39D|B000063W1R|I am not a movie ...|  5.0|   55837245|      87115994|  4.864229|\n",
      "| A63FDY7VFOMQV|B000063W1R|This is a wonderf...|  5.0|   26713560|      87115994|  4.864229|\n",
      "| A66KMXH9V7OGU|B00006HAXW|This video is awe...|  5.0|   74227826|      40695676| 4.9468246|\n",
      "|A3Q4S5DFVPB70D|B00006HAXW|I recvd this vide...|  5.0|   26641678|      40695676| 4.9468246|\n",
      "|A3NPHQVIY59Y0Y|B00006HAXW|Get it, also get ...|  5.0|   41859013|      40695676| 4.9468246|\n",
      "|A1NN07FHTQZZ6K|B00004CQT4|It is a funny mov...|  5.0|   30628376|      87356226| 4.9457555|\n",
      "|A3VP6XR88INLRB|B000063W1R|This is a great m...|  4.0|   49709891|      87115994| 3.8913836|\n",
      "|A2YWH9COGWT8VU|B000063W1R|I love to read an...|  5.0|   95823716|      87115994|  4.864229|\n",
      "|A3NNR95R50VB4W|B000063W1R|I didn't know wha...|  5.0|   14961200|      87115994|  4.864229|\n",
      "|A1D12NAC1U12F0|B00004CQT3|You don't have to...|  5.0|   29489859|      88926809| 4.9416175|\n",
      "|A14HV65O34S8EF|B004BH1TN0|Did not play well...|  3.0|   70696617|       1474096| 2.9588962|\n",
      "|A1FRPGQYQTAOR1|B00006HAXW|The people who ha...|  5.0|   16049938|      40695676| 4.9468246|\n",
      "|A3NWP0SFAC0ZD2|B000063W1R|A very well-done ...|  5.0|   18926275|      87115994|  4.864229|\n",
      "| AQJVNDW6YZFQS|B003AI2VGA|Mexican men are m...|  1.0|   70150525|      51259877|0.95717406|\n",
      "|A2I6MHMAZZDCRX|B00004CQT3|Growing up in the...|  3.0|   16210261|      88926809| 2.8697715|\n",
      "|A2IT3899H776LW|B000063W1R|ACTION,ADVENTURE,...|  5.0|   93616063|      87115994|  4.864229|\n",
      "|A3IG9WGCIHPJ6X|B00004CQT4|Though it was nev...|  4.0|   96692191|      87356226| 3.9566042|\n",
      "|A2TX99AZKDK0V7|B00006HAXW|I have the Doo Wo...|  4.0|   53511390|      40695676| 3.9574592|\n",
      "|A2M2O1DI1SCQDI|B000063W1R|Great Blu-ray DVD...|  5.0|   98716934|      87115994|  4.864229|\n",
      "|A2IOMS4TK2QSFW|B000063W1R|I love this movie...|  4.0|   28795324|      87115994| 3.8913836|\n",
      "|A3RVH9HUN9J4LZ|B00004CQT3|You don't have to...|  5.0|   86502732|      88926809| 4.9416175|\n",
      "|A13NO1WIGJZUV4|B0071AD95K|This DVD was very...|  5.0|   96185792|      77653941| 4.9412055|\n",
      "|A1AFHYBINSG7PH|B000063W1R|This is an excell...|  4.0|    4750103|      87115994| 3.8913836|\n",
      "| A8DDTUL8OWFMO|B00004CQT3|A refreshing, fam...|  5.0|    1341370|      88926809| 4.9416175|\n",
      "|A1M3W0ROKC7F3C|B000063W1R|This movie has ev...|  5.0|    2692813|      87115994|  4.864229|\n",
      "|A2VDM3D712BGLE|B00004CQT3|This movie was on...|  1.0|   26636764|      88926809|0.98832357|\n",
      "|A36SSF310LBGSE|B000063W1R|I hate to give th...|  3.0|   67989380|      87115994| 2.9185376|\n",
      "|A141HP4LYPWMSR|B003AI2VGA|Synopsis: On the ...|  3.0|    5460385|      51259877| 2.9493568|\n",
      "|A2P7UB02HAVEPB|B00006HAXW|Wow! When I saw t...|  5.0|   75288382|      40695676| 4.9468246|\n",
      "|A1MIFONBFK8OWE|B000063W1R|Sit back and enjo...|  4.0|   34637806|      87115994| 3.8913836|\n",
      "|A1I7QGUDP043DG|B003AI2VGA|The scenes in thi...|  5.0|    1480848|      51259877|   4.57274|\n",
      "| ATXL536YX71TR|B003AI2VGA|Informationally, ...|  3.0|   40460580|      51259877|  2.997638|\n",
      "| AFC8IKR407HSK|B00006HAXW|Having worked in ...|  5.0|   73643713|      40695676| 4.9468246|\n",
      "| AXMKAXC0TR9AW|B00006HAXW|I own both the VH...|  5.0|   85150554|      40695676| 4.9181347|\n",
      "|A2UFG3DMVELP6I|B000063W1R|The movie was gre...|  5.0|   60604664|      87115994|  4.864229|\n",
      "| A44YJ6ZLTMAR6|B006JIUN2W|This video covers...|  5.0|   30704311|      55944207| 4.9450903|\n",
      "| AVV8PPI6BDKVA|B004BH1TN0|I own this DVD, a...|  5.0|   50217248|       1474096| 4.9314938|\n",
      "|A295JWKTJLM7YT|B000063W1R|LOVE this movie -...|  5.0|   87427882|      87115994|  4.864229|\n",
      "|A328S9RN3U5M68|B003AI2VGA|THE VIRGIN OF JUA...|  3.0|   64843361|      51259877|  3.090355|\n",
      "| AMEJTGF5NQLNH|B000063W1R|We must allow Jam...|  3.0|   87270701|      87115994| 2.9185376|\n",
      "| AFKMBAY28XO8A|B00006HAXW|Excellent, excell...|  5.0|   29851768|      40695676| 4.9468246|\n",
      "| A2URPOBDQK3WG|B00004CQT3|They just dont ma...|  5.0|   81459943|      88926809| 4.9416175|\n",
      "|A3N2MVBI1A2I9Y|B000063W1R|It is one of the ...|  5.0|   11058978|      87115994| 4.8273993|\n",
      "|A2DLKD4AC5JV5Q|B00004CQT3|Are you a dog lov...|  4.0|   16125373|      88926809|  3.940752|\n",
      "|  ASES4LU7WKYC|B00004CQT3|My sister and her...|  5.0|   77401102|      88926809| 4.9416175|\n",
      "|A1DDVFGUC6NQD3|B000063W1R|So much better th...|  5.0|   85142277|      87115994|  4.864229|\n",
      "|A1VJCDRXUQVXBM|B00004CQT3|I would beg to di...|  5.0|   64926990|      88926809| 4.9416175|\n",
      "|A2H5D7IK9SF07M|B00004CQT3|This is a fantast...|  5.0|   95892966|      88926809| 4.9416175|\n",
      "|A17RUD7RKGZUA4|B000063W1R|I have to say I w...|  5.0|   72324323|      87115994|  4.864229|\n",
      "|A1OUBOGB5970AO|B00006HAXW|The performance o...|  4.0|   55191212|      40695676| 3.9574592|\n",
      "|A2OKCS5234ZV7S|B0071AD95K|This is an awesom...|  5.0|   20836740|      77653941| 4.7723308|\n",
      "| AA72A0AYTWV5Y|B0071AD95K|Although this mov...|  5.0|   80248012|      77653941| 4.9412055|\n",
      "|A2BTR8ZO8MB01D|B0071AD95K|Louie has some of...|  5.0|   35319744|      77653941| 4.9523463|\n",
      "|A1DZ4MTJY8LAVG|B000063W1R|Great movie.  Saw...|  4.0|   47435881|      87115994| 3.8913836|\n",
      "|A2942G3FDOIM18|B00004CQT3|I disagree with t...|  5.0|   25062680|      88926809| 4.9416175|\n",
      "|A1J50B4K22D93F|B00004CQT3|I have no words, ...|  5.0|   94551221|      88926809| 4.9416175|\n",
      "|A2D595HNMO9PHR|B0071AD95K|This is an amazin...|  5.0|   68062495|      77653941| 4.9412055|\n",
      "|A3R95JCH1K9R0S|B000063W1R|This is a well do...|  5.0|   94116478|      87115994|  4.864229|\n",
      "| AUQW6UEZFC7B2|B004BH1TN0|I have been a Bee...|  5.0|   43829230|       1474096| 4.9314938|\n",
      "+--------------+----------+--------------------+-----+-----------+--------------+----------+\n",
      "only showing top 100 rows\n"
     ]
    }
   ],
   "source": [
    "\n",
    "als=ALS( maxIter=10,regParam=0.1,userCol='user_id_int',itemCol='product_id_int',ratingCol='score')\n",
    "model=als.fit(df_clean2)\n",
    "#user_input=int(input('Enter user id for prediction'))\n",
    "#product_input=int(input('Enter product id for prediction'))\n",
    "#inputdf=spark.createDataFrame([(user_input,product_input)])\n",
    "#inputdf.show()\n",
    "predict=model.transform(df_clean2)\n",
    "predict.show(100)"
   ]
  },
  {
   "cell_type": "code",
   "execution_count": null,
   "id": "d35ff4a6",
   "metadata": {},
   "outputs": [
    {
     "name": "stdout",
     "output_type": "stream",
     "text": [
      "Root mean Square Error Value: 0.20145840066372264\n"
     ]
    }
   ],
   "source": [
    "from pyspark.ml.evaluation import RegressionEvaluator\n",
    "\n",
    "evaluator=RegressionEvaluator()\n",
    "\n",
    "evaluator.setLabelCol('score').setPredictionCol('prediction').setMetricName('rmse')\n",
    "\n",
    "rmse=evaluator.evaluate(predict)\n",
    "print(\"Root mean Square Error Value:\",rmse)"
   ]
  },
  {
   "cell_type": "code",
   "execution_count": null,
   "id": "dd6490cd",
   "metadata": {},
   "outputs": [],
   "source": []
  }
 ],
 "metadata": {
  "kernelspec": {
   "display_name": "sparkenv",
   "language": "python",
   "name": "myenv"
  },
  "language_info": {
   "codemirror_mode": {
    "name": "ipython",
    "version": 3
   },
   "file_extension": ".py",
   "mimetype": "text/x-python",
   "name": "python",
   "nbconvert_exporter": "python",
   "pygments_lexer": "ipython3",
   "version": "3.11.2"
  }
 },
 "nbformat": 4,
 "nbformat_minor": 5
}
