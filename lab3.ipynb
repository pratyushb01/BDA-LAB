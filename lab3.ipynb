{
 "cells": [
  {
   "cell_type": "markdown",
   "id": "123ba1dd",
   "metadata": {},
   "source": [
    "## Lab No 3: Entity Resolution Application using PySpark"
   ]
  },
  {
   "cell_type": "code",
   "execution_count": 6,
   "id": "c3cdb31e",
   "metadata": {},
   "outputs": [
    {
     "name": "stderr",
     "output_type": "stream",
     "text": [
      "25/08/13 14:39:05 WARN SparkSession: Using an existing Spark session; only runtime SQL configurations will take effect.\n"
     ]
    }
   ],
   "source": [
    "from pyspark.sql import SparkSession\n",
    "from pyspark.sql.functions import col\n",
    "from pyspark.sql.functions import lower\n",
    "spark=SparkSession.builder.appName(\"Entity\").getOrCreate()"
   ]
  },
  {
   "cell_type": "code",
   "execution_count": null,
   "id": "7bf25ae3",
   "metadata": {},
   "outputs": [
    {
     "ename": "TypeError",
     "evalue": "'DataFrame' object does not support item assignment",
     "output_type": "error",
     "traceback": [
      "\u001b[31m---------------------------------------------------------------------------\u001b[39m",
      "\u001b[31mTypeError\u001b[39m                                 Traceback (most recent call last)",
      "\u001b[36mCell\u001b[39m\u001b[36m \u001b[39m\u001b[32mIn[9]\u001b[39m\u001b[32m, line 2\u001b[39m\n\u001b[32m      1\u001b[39m df=spark.read.csv(\u001b[33m'\u001b[39m\u001b[33m/home/5AIMLA2/Documents/230962322/BDA-LAB/customer.csv\u001b[39m\u001b[33m'\u001b[39m,header=\u001b[38;5;28;01mTrue\u001b[39;00m,inferSchema=\u001b[38;5;28;01mTrue\u001b[39;00m,sep=\u001b[33m\"\u001b[39m\u001b[33m,\u001b[39m\u001b[33m\"\u001b[39m)\n\u001b[32m----> \u001b[39m\u001b[32m2\u001b[39m \u001b[43mdf\u001b[49m\u001b[43m[\u001b[49m\u001b[33;43m'\u001b[39;49m\u001b[33;43mname\u001b[39;49m\u001b[33;43m'\u001b[39;49m\u001b[43m]\u001b[49m=lower(df[\u001b[33m'\u001b[39m\u001b[33mname\u001b[39m\u001b[33m'\u001b[39m])\n\u001b[32m      5\u001b[39m df.show(\u001b[32m100\u001b[39m)\n",
      "\u001b[31mTypeError\u001b[39m: 'DataFrame' object does not support item assignment"
     ]
    }
   ],
   "source": [
    "df=spark.read.csv('/home/5AIMLA2/Documents/230962322/BDA-LAB/customer.csv',header=True,inferSchema=True,sep=\",\")\n",
    "df['name\n",
    "\n",
    "\n",
    "df.show(100)\n",
    "\n"
   ]
  },
  {
   "cell_type": "code",
   "execution_count": null,
   "id": "f84c9cef",
   "metadata": {},
   "outputs": [],
   "source": []
  }
 ],
 "metadata": {
  "kernelspec": {
   "display_name": "sparkenv",
   "language": "python",
   "name": "myenv"
  },
  "language_info": {
   "codemirror_mode": {
    "name": "ipython",
    "version": 3
   },
   "file_extension": ".py",
   "mimetype": "text/x-python",
   "name": "python",
   "nbconvert_exporter": "python",
   "pygments_lexer": "ipython3",
   "version": "3.11.2"
  }
 },
 "nbformat": 4,
 "nbformat_minor": 5
}
