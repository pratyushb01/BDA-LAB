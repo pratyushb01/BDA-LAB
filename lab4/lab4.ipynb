{
 "cells": [
  {
   "cell_type": "markdown",
   "id": "2eccea4f",
   "metadata": {},
   "source": [
    "## Recommendation System using Pyspark"
   ]
  },
  {
   "cell_type": "code",
   "execution_count": 24,
   "id": "49e0dd3d",
   "metadata": {},
   "outputs": [],
   "source": [
    "from pyspark.sql import SparkSession\n",
    "from pyspark.ml.recommendation import ALS\n",
    "from pyspark.ml.tuning import ParamGridBuilder, CrossValidator\n",
    "from pyspark.ml.evaluation import RegressionEvaluator\n",
    "import pyspark.sql.functions as F\n",
    "import pyspark.sql.types as T\n",
    "spark=SparkSession.builder.appName(\"Recommendation\").getOrCreate()"
   ]
  },
  {
   "cell_type": "code",
   "execution_count": 25,
   "id": "029eeddd",
   "metadata": {},
   "outputs": [
    {
     "name": "stdout",
     "output_type": "stream",
     "text": [
      "root\n",
      " |-- helpfulness: string (nullable = true)\n",
      " |-- product_id: string (nullable = true)\n",
      " |-- profile_name: string (nullable = true)\n",
      " |-- review: string (nullable = true)\n",
      " |-- score: double (nullable = true)\n",
      " |-- summary: string (nullable = true)\n",
      " |-- time: long (nullable = true)\n",
      " |-- user_id: string (nullable = true)\n",
      "\n"
     ]
    }
   ],
   "source": [
    "df=spark.read.json('../movies.json')\n",
    "df.printSchema()"
   ]
  },
  {
   "cell_type": "code",
   "execution_count": 26,
   "id": "baae2ad1",
   "metadata": {},
   "outputs": [
    {
     "name": "stdout",
     "output_type": "stream",
     "text": [
      "root\n",
      " |-- user_id: string (nullable = true)\n",
      " |-- product_id: string (nullable = true)\n",
      " |-- review: string (nullable = true)\n",
      " |-- score: double (nullable = true)\n",
      "\n"
     ]
    }
   ],
   "source": [
    "df_clean1=df.select(F.col('user_id'),F.col('product_id'),F.col('review'),F.col('score'))\n",
    "df_clean1.printSchema()"
   ]
  },
  {
   "cell_type": "code",
   "execution_count": 27,
   "id": "711ef015",
   "metadata": {},
   "outputs": [
    {
     "name": "stdout",
     "output_type": "stream",
     "text": [
      "+--------------+----------+--------------------+-----+-----------+--------------+\n",
      "|       user_id|product_id|              review|score|user_id_int|product_id_int|\n",
      "+--------------+----------+--------------------+-----+-----------+--------------+\n",
      "|A141HP4LYPWMSR|B003AI2VGA|Synopsis: On the ...|  3.0|    5460385|      51259877|\n",
      "|A328S9RN3U5M68|B003AI2VGA|THE VIRGIN OF JUA...|  3.0|   64843361|      51259877|\n",
      "|A1I7QGUDP043DG|B003AI2VGA|The scenes in thi...|  5.0|    1480848|      51259877|\n",
      "|A1M5405JH9THP9|B003AI2VGA|THE VIRGIN OF JUA...|  3.0|   81925650|      51259877|\n",
      "| ATXL536YX71TR|B003AI2VGA|Informationally, ...|  3.0|   40460580|      51259877|\n",
      "|A3QYDL5CDNYN66|B003AI2VGA|The murders in Ju...|  2.0|   81231482|      51259877|\n",
      "| AQJVNDW6YZFQS|B003AI2VGA|Mexican men are m...|  1.0|   70150525|      51259877|\n",
      "| AD4CDZK7D31XP|B00006HAXW|Over the past few...|  5.0|   97008113|      40695676|\n",
      "|A3Q4S5DFVPB70D|B00006HAXW|I recvd this vide...|  5.0|   26641678|      40695676|\n",
      "|A2P7UB02HAVEPB|B00006HAXW|Wow! When I saw t...|  5.0|   75288382|      40695676|\n",
      "|A2TX99AZKDK0V7|B00006HAXW|I have the Doo Wo...|  4.0|   53511390|      40695676|\n",
      "| AFC8IKR407HSK|B00006HAXW|Having worked in ...|  5.0|   73643713|      40695676|\n",
      "|A1FRPGQYQTAOR1|B00006HAXW|The people who ha...|  5.0|   16049938|      40695676|\n",
      "|A1RSDE90N6RSZF|B00006HAXW|I have all of the...|  5.0|   49895560|      40695676|\n",
      "|A1OUBOGB5970AO|B00006HAXW|The performance o...|  4.0|   55191212|      40695676|\n",
      "|A3NPHQVIY59Y0Y|B00006HAXW|Get it, also get ...|  5.0|   41859013|      40695676|\n",
      "| AFKMBAY28XO8A|B00006HAXW|Excellent, excell...|  5.0|   29851768|      40695676|\n",
      "| A66KMXH9V7OGU|B00006HAXW|This video is awe...|  5.0|   74227826|      40695676|\n",
      "| AFJ27ZV9183B8|B00006HAXW|As I stated in my...|  5.0|   37549869|      40695676|\n",
      "| AXMKAXC0TR9AW|B00006HAXW|I own both the VH...|  5.0|   85150554|      40695676|\n",
      "+--------------+----------+--------------------+-----+-----------+--------------+\n",
      "only showing top 20 rows\n"
     ]
    }
   ],
   "source": [
    "hex_to_big=F.udf(lambda x: int(x,16)%10**8,T.LongType())#converts the hexadecimal to LongType\n",
    "df_clean2=df_clean1.withColumn(\"user_id_int\",hex_to_big(F.sha1('user_id'))) #sha converts alphanumeric to 40 bit hexadecimal\n",
    "df_clean2=df_clean2.withColumn(\"product_id_int\",hex_to_big(F.sha1('product_id')))\n",
    "df_clean2.show(20)\n",
    "train,test=df_clean2.randomSplit([0.8,0.2])\n"
   ]
  },
  {
   "cell_type": "code",
   "execution_count": 28,
   "id": "9e2e25c2",
   "metadata": {},
   "outputs": [],
   "source": [
    "\n",
    "als=ALS( maxIter=10,regParam=0.1,userCol='user_id_int',itemCol='product_id_int',ratingCol='score',coldStartStrategy='drop')\n"
   ]
  },
  {
   "cell_type": "code",
   "execution_count": 29,
   "id": "1a6a833a",
   "metadata": {},
   "outputs": [],
   "source": [
    "paramGrid = ParamGridBuilder() \\\n",
    "    .addGrid(als.rank, [10, 20]) \\\n",
    "    .addGrid(als.regParam, [0.01, 0.1]) \\\n",
    "    .addGrid(als.maxIter, [5, 10]) \\\n",
    "    .build()\n"
   ]
  },
  {
   "cell_type": "code",
   "execution_count": 30,
   "id": "2747b728",
   "metadata": {},
   "outputs": [],
   "source": [
    "crossval = CrossValidator(\n",
    "    estimator=als,\n",
    "    estimatorParamMaps=paramGrid,\n",
    "    evaluator=evaluator,\n",
    "    numFolds=3  # e.g. 3-fold cross-validation\n",
    ")\n"
   ]
  },
  {
   "cell_type": "code",
   "execution_count": 31,
   "id": "84dcb592",
   "metadata": {},
   "outputs": [
    {
     "name": "stdout",
     "output_type": "stream",
     "text": [
      "+--------------+----------+--------------------+-----+-----------+--------------+----------+\n",
      "|       user_id|product_id|              review|score|user_id_int|product_id_int|prediction|\n",
      "+--------------+----------+--------------------+-----+-----------+--------------+----------+\n",
      "|A3EOYN87MMNHL1|0790747324|I first viewed th...|  5.0|   16261090|      62577830|0.40065345|\n",
      "|A19ZXK9HHVRV1X|B00022VM5I|\"The Human Stain\"...|  3.0|   37666668|      43077444| 2.9135137|\n",
      "|A2VXLLBBT7CL89|B0001G6PZC|I went to see thi...|  4.0|   19582301|      58302865| 2.7188632|\n",
      "| ABLOQZIL42W7I|B0016OLXN2|Wow!  This is why...|  5.0|    4272300|      86369239| 1.1787786|\n",
      "|A2EWC48FRNO3YP|B0001G6PZC|We are huge fans ...|  5.0|   88408752|      58302865|0.94796866|\n",
      "|A3LYHNFYXYS1RP|B0002V7TJM|For my taste this...|  5.0|   27867313|      61205283| 4.9212995|\n",
      "|A1FNES0QEBJZD1|B0001G6PZC|I have loved this...|  4.0|   71882095|      58302865|   3.66851|\n",
      "|A2N7N3OPJSAJJD|B002OHDRF2|T2 is by far one ...|  1.0|   33787831|      65210615|  1.147654|\n",
      "|A1BMQA5PIZKU1P|6304286961|is what this movi...|  3.0|   99436079|      30926631| 2.3768847|\n",
      "|A3BMQ0M3XU3J7D|B000063W82|If these types of...|  5.0|   74159151|      84390254|  1.144807|\n",
      "|A2ER8G4JJJ7XER|B002OHDRF2|Spoilers!<br /><b...|  3.0|   36335582|      65210615| 2.9039197|\n",
      "| AF8C86SGYLH81|6304286961|The best die youn...|  5.0|    8210354|      30926631| 3.8017566|\n",
      "| AF8C86SGYLH81|B000UGBOT0|See this movie be...|  5.0|    8210354|        109252|  4.230781|\n",
      "|A20EEWWSFMZ1PN|6304286961|Oliver Stone's an...|  2.0|   25755868|      30926631| 4.0824943|\n",
      "|A2E2R8N7UMTLJF|6304286961|THE DOORS is a gr...|  4.0|   84858863|      30926631| 1.3555782|\n",
      "| AVOCNUFOXUCA6|B000063W82|Back in the 70s, ...|  5.0|   87996779|      84390254| 1.4483087|\n",
      "|A3JM72KP391M2V|B002OHDRF2|This movie was aw...|  4.0|   63365264|      65210615| 3.7565758|\n",
      "|A1TW9ZGRDQQZ2Y|B0001G6PZC|This movie was so...|  5.0|   40572035|      58302865|  4.169064|\n",
      "|A3S9887MZFNNH1|B000UGBOT0|Interesting prequ...|  4.0|   91648851|        109252|0.87064904|\n",
      "| A9Q28YTLYREO7|B004BH1TN0|of course it's re...|  4.0|   38382464|       1474096|  1.958492|\n",
      "| AXJTNYD3UK1BP|B000063W82|I was soooo excit...|  1.0|   39328434|      84390254| 2.0198476|\n",
      "|A3673NBQVA4J2M|B000063W82|The song \"Unpack ...|  4.0|   10836324|      84390254|0.28146136|\n",
      "|A1YR4OM2QLQ1LY|B0002V7TJM|Sugar Valentine w...|  4.0|   48846806|      61205283| 3.8079891|\n",
      "| A7WP90L9QG2BD|B002OHDRF2|THE SPECIAL EFFEC...|  5.0|   46806883|      65210615|  4.839866|\n",
      "|A2B8GXSCB1R05T|B0001G6PZC|\"The Last Samurai...|  5.0|   13759530|      58302865| 2.0693426|\n",
      "| AT49HD5U4ZXEH|B002OHDRF2|This really is a ...|  4.0|   77055143|      65210615| 3.8718925|\n",
      "|A2MUMWNRBK9W0E|B0012EM5GK|The pacing at the...|  3.0|   31000596|      80115934| 2.9691012|\n",
      "|A1TEMNM9ZEOLJ6|B00022VM5I|I haven't read th...|  4.0|   10855719|      43077444| 3.7932465|\n",
      "|A34GZPHWYPSY2T|B002OHDRF2|First off, I can'...|  1.0|   28118386|      65210615| 2.3338683|\n",
      "| AT6CZDCP4TRGA|B00022VM5I|...I had the feel...|  4.0|   27769232|      43077444| 2.1939268|\n",
      "|A3VV4GUGLUVUP1|B001GBPZRU|Three years after...|  2.0|   84783485|      57700962| 2.6642106|\n",
      "|A2N7CBNS3MV4L1|B002OHDRF2|Terminator \"Lite\"...|  2.0|   72894416|      65210615| 1.9359462|\n",
      "|A3JV7KL1ECLZB8|B004TWOX26|This is a sharply...|  5.0|   27730847|      85151480| 3.6970074|\n",
      "|A2P2JXU9JEYNV3|B002OHDRF2|Gads! All the whi...|  4.0|   61942924|      65210615|  3.623691|\n",
      "|A3JMB1BG9WHWPT|B001MBE63I|obsession, Desire...|  5.0|   55951065|      29349965| 2.2792306|\n",
      "|  AHF97M45JFCB|B0023S4A12|Some anime titles...|  3.0|   37643701|      41561965|0.78029466|\n",
      "|  AHF97M45JFCB|B002OHDRF2|I've been a fan o...|  4.0|   37643701|      65210615|0.25874543|\n",
      "|A3O2RCKAMSE9X7|0790747324|In order for a sc...|  5.0|   57111637|      62577830| 4.0130277|\n",
      "| AUSRSQVVRDRNB|B0001G6PZC|This is my favori...|  5.0|   69764402|      58302865|  4.875248|\n",
      "|A19DDULX2H5LLJ|B002OHDRF2|Great movie, ever...|  5.0|   97785689|      65210615|  4.839866|\n",
      "|A22BPC7LRSGSYQ|6304286961|It's hard to beli...|  4.0|   62937404|      30926631| 4.3246126|\n",
      "|A2U0ABMZK6XBVF|0790747324|When I was a kid ...|  4.0|   96272726|      62577830| 3.3650522|\n",
      "|A1CXVAOCM2IN5Q|B000063W82|I remember School...|  4.0|   14049829|      84390254| 2.5972714|\n",
      "|A1EEG7YJIYN60B|B000063W82|As a member of Ge...|  5.0|   78669600|      84390254| 0.5455489|\n",
      "|A2LI09QK42NF1E|B000CDSS86|Hi :)<br /><br />...|  5.0|    9174375|      26295329|0.13549504|\n",
      "|A34ZAYTNP67S83|B000UGBOT0|I won't get into ...|  4.0|   15483073|        109252| 2.8823533|\n",
      "| AVF60NZ99H9D5|6304286961|If you love the r...|  1.0|   68714807|      30926631| 2.3082855|\n",
      "| AY12DBB0U420B|6304286961|Last night's barg...|  5.0|   85903364|      30926631| 3.9990675|\n",
      "|A3H9JSM1SUTE4O|6303257933|Goth purists may ...|  3.0|    1227384|      18548860|  2.047732|\n",
      "|A1V3TRGWOMA8LC|B002OHDRF2|Well, there's not...|  1.0|   92629954|      65210615| 0.9679731|\n",
      "|A3KO1QOAMYHWY4|B002OHDRF2|Please, James Cam...|  1.0|   55222292|      65210615| 0.7133875|\n",
      "| ALA7ITRHEN2MO|B002OHDRF2|As expected, the ...|  3.0|    1164043|      65210615|0.44832653|\n",
      "|A1CIQTLWE6RAZF|B0012EM5GK|Since I first saw...|  5.0|   80832650|      80115934|  4.753111|\n",
      "|A2161MAS1NMMZ3|B0095D5454|Communist troops ...|  1.0|   54593060|      32226590|0.45235065|\n",
      "| AQE41QO3NEUMW|B0016OLXN2|Robert Duvall rep...|  4.0|   99279445|      86369239| 2.2856169|\n",
      "|A1ZME7VPN7AQLE|B002OHDRF2|I'm a big Termina...|  5.0|   72675407|      65210615|  4.839866|\n",
      "| AXYEW4EJR2BIA|B007EMEOEA|The Yellow Sea is...|  4.0|   74200145|      46583278| 1.4079766|\n",
      "| AZMDW1ZNOMXLJ|B002OHDRF2|I liked this movi...|  4.0|   35896164|      65210615| 3.8718925|\n",
      "|A2BX8DDQGCCG2J|B002OHDRF2|How bad can a Ter...|  2.0|   22660767|      65210615| 1.9359462|\n",
      "|A3R6914QQ5D32F|B002OHDRF2|I'v enjoyed all 4...|  3.0|   75949032|      65210615| 2.9039197|\n",
      "|A27WUGO3OIM5PA|B002OHDRF2|They should have ...|  1.0|   66852462|      65210615| 0.9679731|\n",
      "|A2VUOO5RVB78A7|B000UGBOT0|UPDATE: 10/26/05<...|  2.0|   81032372|        109252| 2.1128414|\n",
      "|A2VUOO5RVB78A7|B0095D5454|Red Dawn.<br /><b...|  3.0|   81032372|      32226590|0.73747474|\n",
      "|A2XRMQA6PJ5ZJ8|B0001G6PZC|This movie succee...|  4.0|   56128248|      58302865| 3.6812208|\n",
      "| ALTNI5BAFUAQY|B0095D5454|I was totally ama...|  5.0|   65955248|      32226590| 1.5018561|\n",
      "|A1NLO4JVLEGGRJ|B002OHDRF2|Let me begin this...|  2.0|   79616377|      65210615|  2.001708|\n",
      "|A3U8632T422VQO|B00022VM5I|I was really anxi...|  2.0|   76276204|      43077444|  2.161253|\n",
      "|A3GYVMUS7SSDFW|B000NDFLWG|Americans spend m...|  5.0|   65911572|      51896371|0.63233984|\n",
      "|A2582KMXLK2P06|B002OHDRF2|Wow, Terminator S...|  5.0|   91691997|      65210615|  3.817829|\n",
      "| AHP5CXYHWEKTA|B002OHDRF2|The emphasis on s...|  5.0|   77168566|      65210615|  4.839866|\n",
      "|A3N6GAJTEOF4MO|B002OHDRF2|As a fan of the e...|  4.0|   55422473|      65210615| 3.5873227|\n",
      "| ADEETJWRKD6OA|B000063W82|This is a great D...|  5.0|   70733873|      84390254| 1.2536061|\n",
      "|A255E1L105V4MU|B00096S43U|Only in New York ...|  3.0|   41983688|      29877339| 1.6915108|\n",
      "|A2RZUFRYRHTRS8|B000063W82|I was teaching an...|  5.0|   45038149|      84390254| 2.5972714|\n",
      "|A32XW50ILWOXNO|B00022VM5I|Early in &quot;Th...|  3.0|   19711221|      43077444| 3.5364022|\n",
      "| ATQTE464YAZM1|B0001G6PZC|I don't understan...|  3.0|   18596832|      58302865| 1.8667406|\n",
      "|A10DB0H2NZF11E|B002OHDRF2|We rented the mov...|  5.0|    9511163|      65210615|  4.839866|\n",
      "| AQ8DU6XVA3USJ|B000063W1R|Based on the Duma...|  5.0|   12720209|      87115994| 3.6699843|\n",
      "|A3ENN12GLNTUAF|B0071AD95K|This DVD is the t...|  5.0|   84074793|      77653941|0.85533047|\n",
      "|A1EGDRTJYF3AZK|B0001G6PZC|I rank this movie...|  5.0|   74060574|      58302865| 1.8242581|\n",
      "|A27MOT4ZIUAKIW|B0001G6PZC|There is little t...|  4.0|   15410348|      58302865| 1.9525006|\n",
      "| AQP1VPK16SVWM|B002OHDRF2|BLU-RAY 3 DISC RE...|  2.0|    9783653|      65210615| 2.4604602|\n",
      "|A2K9IVPCTJUQHN|B0095D5454|My goodness this ...|  4.0|   29103106|      32226590| 2.0513556|\n",
      "| AKYNIMNI8LOBP|B00096S43U|I first came acro...|  3.0|   62620147|      29877339| 1.4795463|\n",
      "|A146H6A41B26QT|B00004CQTF|My wise cousin to...|  5.0|   16284730|      56136380| 2.7800677|\n",
      "|A146H6A41B26QT|B0001G6PZC|Tom Cruise as a S...|  2.0|   16284730|      58302865| 2.8236544|\n",
      "|A16X61RLY1YJL7|B0001G6PZC|As epic movies go...|  5.0|   90804995|      58302865| 3.9318266|\n",
      "|A1T0Z4J5PPLTC7|0790747324|Skip the godawful...|  4.0|   45155382|      62577830|  2.410052|\n",
      "|A2UYAFQ40U2PHS|B0095D5454|This film is such...|  1.0|   49009648|      32226590|  2.826058|\n",
      "|A3LHHW6WRRXEDJ|B000063W82|Im 39 now, and I ...|  5.0|   20542290|      84390254|  4.682297|\n",
      "| AKA0A7GB5Q0V4|B0016OLXN2|Both Robert Duval...|  5.0|    5552179|      86369239|0.70825803|\n",
      "|A10ODC971MDHV8|B000063W1R|Director Reynolds...|  5.0|   66012579|      87115994|  4.252987|\n",
      "|A19KXPPK2R2FU5|B002OHDRF2|Hello people,<br ...|  1.0|    6327248|      65210615| 0.9679731|\n",
      "|A1OTGBG66P6K5Y|B0016OLXN2|What is it that m...|  5.0|   61252968|      86369239|  4.994901|\n",
      "| APBB297H3ZA5E|B0016OLXN2|1.  I watched hal...|  5.0|   50076479|      86369239| 3.3274794|\n",
      "|A245AST0T0AZTJ|B000063W82|Watching this rem...|  5.0|   23184418|      84390254|  1.347255|\n",
      "| AUTBHG6070SL4|B0001G6PZC|They're Eastern c...|  4.0|   68729026|      58302865| 2.7010844|\n",
      "| ATRYT5ZKNLN9C|6304286961|Being a huge Door...|  5.0|    4265098|      30926631|  2.752935|\n",
      "|A3FU2A91KSXOHZ|B002OHDRF2|Terminator Salvat...|  5.0|   75450419|      65210615|  4.839866|\n",
      "| A60PQSFWSQK8K|B000056PNV|When it comes to ...|  2.0|   69165234|      69046389|0.58464897|\n",
      "+--------------+----------+--------------------+-----+-----------+--------------+----------+\n",
      "only showing top 100 rows\n"
     ]
    }
   ],
   "source": [
    "model=crossval.fit(train)\n",
    "#user_input=int(input('Enter user id for prediction'))\n",
    "#product_input=int(input('Enter product id for prediction'))\n",
    "#inputdf=spark.createDataFrame([(user_input,product_input)])\n",
    "#inputdf.show()\n",
    "predict=model.transform(test)\n",
    "predict.show(100)"
   ]
  },
  {
   "cell_type": "code",
   "execution_count": 32,
   "id": "d35ff4a6",
   "metadata": {},
   "outputs": [
    {
     "name": "stdout",
     "output_type": "stream",
     "text": [
      "Root mean Square Error Value: 1.8867533073905294\n"
     ]
    }
   ],
   "source": [
    "\n",
    "evaluator=RegressionEvaluator()\n",
    "\n",
    "evaluator.setLabelCol('score').setPredictionCol('prediction').setMetricName('rmse')\n",
    "\n",
    "rmse=evaluator.evaluate(predict)\n",
    "print(\"Root mean Square Error Value:\",rmse)"
   ]
  }
 ],
 "metadata": {
  "kernelspec": {
   "display_name": "sparkenv",
   "language": "python",
   "name": "myenv"
  },
  "language_info": {
   "codemirror_mode": {
    "name": "ipython",
    "version": 3
   },
   "file_extension": ".py",
   "mimetype": "text/x-python",
   "name": "python",
   "nbconvert_exporter": "python",
   "pygments_lexer": "ipython3",
   "version": "3.11.2"
  }
 },
 "nbformat": 4,
 "nbformat_minor": 5
}
