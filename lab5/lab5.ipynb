{
 "cells": [
  {
   "cell_type": "markdown",
   "id": "f4744e33",
   "metadata": {},
   "source": [
    "## Lab No 6: Prediction with Decision Trees"
   ]
  },
  {
   "cell_type": "code",
   "execution_count": 5,
   "id": "4229dfa5",
   "metadata": {},
   "outputs": [],
   "source": [
    "from pyspark.sql import SparkSession\n",
    "import pyspark.sql.functions as F\n"
   ]
  },
  {
   "cell_type": "code",
   "execution_count": 8,
   "id": "7256e8d5",
   "metadata": {},
   "outputs": [
    {
     "name": "stderr",
     "output_type": "stream",
     "text": [
      "WARNING: Using incubator modules: jdk.incubator.vector\n",
      "Using Spark's default log4j profile: org/apache/spark/log4j2-defaults.properties\n",
      "25/09/03 16:01:07 WARN Utils: Your hostname, dbl-24, resolves to a loopback address: 127.0.1.1; using 172.16.58.196 instead (on interface eno1)\n",
      "25/09/03 16:01:07 WARN Utils: Set SPARK_LOCAL_IP if you need to bind to another address\n",
      "Using Spark's default log4j profile: org/apache/spark/log4j2-defaults.properties\n",
      "Setting default log level to \"WARN\".\n",
      "To adjust logging level use sc.setLogLevel(newLevel). For SparkR, use setLogLevel(newLevel).\n",
      "25/09/03 16:01:07 WARN NativeCodeLoader: Unable to load native-hadoop library for your platform... using builtin-java classes where applicable\n"
     ]
    }
   ],
   "source": [
    "spark=SparkSession.builder.appName('DT').master('local[*]').getOrCreate()"
   ]
  },
  {
   "cell_type": "code",
   "execution_count": 9,
   "id": "4b989423",
   "metadata": {},
   "outputs": [
    {
     "name": "stderr",
     "output_type": "stream",
     "text": [
      "                                                                                \r"
     ]
    }
   ],
   "source": [
    "df=spark.read.csv('../covtype.csv',header=True,inferSchema=True)"
   ]
  },
  {
   "cell_type": "code",
   "execution_count": 12,
   "id": "4e3ccce4",
   "metadata": {},
   "outputs": [
    {
     "name": "stdout",
     "output_type": "stream",
     "text": [
      "root\n",
      " |-- 2596: integer (nullable = true)\n",
      " |-- 51: integer (nullable = true)\n",
      " |-- 3: integer (nullable = true)\n",
      " |-- 258: integer (nullable = true)\n",
      " |-- 04: integer (nullable = true)\n",
      " |-- 510: integer (nullable = true)\n",
      " |-- 221: integer (nullable = true)\n",
      " |-- 232: integer (nullable = true)\n",
      " |-- 148: integer (nullable = true)\n",
      " |-- 6279: integer (nullable = true)\n",
      " |-- 110: integer (nullable = true)\n",
      " |-- 011: integer (nullable = true)\n",
      " |-- 012: integer (nullable = true)\n",
      " |-- 013: integer (nullable = true)\n",
      " |-- 014: integer (nullable = true)\n",
      " |-- 015: integer (nullable = true)\n",
      " |-- 016: integer (nullable = true)\n",
      " |-- 017: integer (nullable = true)\n",
      " |-- 018: integer (nullable = true)\n",
      " |-- 019: integer (nullable = true)\n",
      " |-- 020: integer (nullable = true)\n",
      " |-- 021: integer (nullable = true)\n",
      " |-- 022: integer (nullable = true)\n",
      " |-- 023: integer (nullable = true)\n",
      " |-- 024: integer (nullable = true)\n",
      " |-- 025: integer (nullable = true)\n",
      " |-- 026: integer (nullable = true)\n",
      " |-- 027: integer (nullable = true)\n",
      " |-- 028: integer (nullable = true)\n",
      " |-- 029: integer (nullable = true)\n",
      " |-- 030: integer (nullable = true)\n",
      " |-- 031: integer (nullable = true)\n",
      " |-- 032: integer (nullable = true)\n",
      " |-- 033: integer (nullable = true)\n",
      " |-- 034: integer (nullable = true)\n",
      " |-- 035: integer (nullable = true)\n",
      " |-- 036: integer (nullable = true)\n",
      " |-- 037: integer (nullable = true)\n",
      " |-- 038: integer (nullable = true)\n",
      " |-- 039: integer (nullable = true)\n",
      " |-- 040: integer (nullable = true)\n",
      " |-- 041: integer (nullable = true)\n",
      " |-- 142: integer (nullable = true)\n",
      " |-- 043: integer (nullable = true)\n",
      " |-- 044: integer (nullable = true)\n",
      " |-- 045: integer (nullable = true)\n",
      " |-- 046: integer (nullable = true)\n",
      " |-- 047: integer (nullable = true)\n",
      " |-- 048: integer (nullable = true)\n",
      " |-- 049: integer (nullable = true)\n",
      " |-- 050: integer (nullable = true)\n",
      " |-- 051: integer (nullable = true)\n",
      " |-- 052: integer (nullable = true)\n",
      " |-- 053: integer (nullable = true)\n",
      " |-- 5: integer (nullable = true)\n",
      "\n"
     ]
    }
   ],
   "source": [
    "df.printSchema()"
   ]
  },
  {
   "cell_type": "code",
   "execution_count": null,
   "id": "1657e346",
   "metadata": {},
   "outputs": [],
   "source": []
  }
 ],
 "metadata": {
  "kernelspec": {
   "display_name": "sparkenv",
   "language": "python",
   "name": "myenv"
  },
  "language_info": {
   "codemirror_mode": {
    "name": "ipython",
    "version": 3
   },
   "file_extension": ".py",
   "mimetype": "text/x-python",
   "name": "python",
   "nbconvert_exporter": "python",
   "pygments_lexer": "ipython3",
   "version": "3.11.2"
  }
 },
 "nbformat": 4,
 "nbformat_minor": 5
}
