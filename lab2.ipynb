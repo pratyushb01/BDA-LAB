{
 "cells": [
  {
   "cell_type": "code",
   "execution_count": 20,
   "id": "4c138110",
   "metadata": {},
   "outputs": [],
   "source": [
    "from pyspark.sql import SparkSession\n",
    "from pyspark.sql.functions import col\n",
    "spark=SparkSession.builder.appName(\"Placement Dataset Operations 1\").getOrCreate()"
   ]
  },
  {
   "cell_type": "code",
   "execution_count": 21,
   "id": "e67659ac",
   "metadata": {},
   "outputs": [],
   "source": [
    "df=spark.read.csv(\"/home/5AIMLA2/Downloads/college_student_placement_dataset.csv\",header=True,inferSchema=True,sep=\",\")"
   ]
  },
  {
   "cell_type": "code",
   "execution_count": 22,
   "id": "4c1a3692",
   "metadata": {},
   "outputs": [
    {
     "name": "stdout",
     "output_type": "stream",
     "text": [
      "+----------+---+---------------+-----+--------------------+---------------------+----------------------+--------------------+------------------+---------+\n",
      "|College_ID| IQ|Prev_Sem_Result| CGPA|Academic_Performance|Internship_Experience|Extra_Curricular_Score|Communication_Skills|Projects_Completed|Placement|\n",
      "+----------+---+---------------+-----+--------------------+---------------------+----------------------+--------------------+------------------+---------+\n",
      "|   CLG0030|107|           6.61| 6.28|                   8|                   No|                     8|                   8|                 4|       No|\n",
      "|   CLG0061| 97|           5.52| 5.37|                   8|                   No|                     7|                   8|                 0|       No|\n",
      "|   CLG0036|109|           5.36| 5.83|                   9|                   No|                     3|                   1|                 1|       No|\n",
      "|   CLG0055|122|           5.47| 5.75|                   6|                  Yes|                     1|                   6|                 1|       No|\n",
      "|   CLG0004| 96|           7.91| 7.69|                   7|                   No|                     8|                  10|                 2|       No|\n",
      "|   CLG0015| 96|           5.26| 5.32|                   7|                   No|                     5|                   8|                 0|       No|\n",
      "|   CLG0071|123|           6.68| 6.58|                   5|                   No|                     7|                   8|                 2|      Yes|\n",
      "|   CLG0096|111|           8.77| 8.76|                   7|                   No|                     3|                   1|                 2|      Yes|\n",
      "|   CLG0097| 92|           6.47| 6.33|                   9|                   No|                     7|                   8|                 5|       No|\n",
      "|   CLG0057|108|           8.82|  8.6|                   4|                   No|                     5|                   9|                 1|       No|\n",
      "|   CLG0063| 93|           8.73|  8.9|                   2|                  Yes|                     5|                   6|                 0|       No|\n",
      "|   CLG0077| 93|           6.23| 6.51|                   8|                   No|                     5|                   7|                 4|       No|\n",
      "|   CLG0064|103|           8.64| 9.01|                   7|                  Yes|                     8|                   6|                 1|       No|\n",
      "|   CLG0017| 71|           8.74|  8.4|                   6|                   No|                     0|                   5|                 2|       No|\n",
      "|   CLG0053| 74|           6.99| 7.31|                   7|                   No|                     0|                   1|                 2|       No|\n",
      "|   CLG0040| 91|           6.05|  5.8|                   3|                   No|                     4|                   2|                 3|       No|\n",
      "|   CLG0070| 84|           7.61| 7.54|                   6|                   No|                     0|                  10|                 0|       No|\n",
      "|   CLG0050|104|           9.61|10.01|                  10|                  Yes|                     9|                   2|                 4|       No|\n",
      "|   CLG0068| 86|            8.2| 8.15|                   7|                   No|                     8|                   9|                 4|      Yes|\n",
      "|   CLG0015| 78|           5.86| 5.56|                   7|                  Yes|                     3|                   6|                 2|       No|\n",
      "+----------+---+---------------+-----+--------------------+---------------------+----------------------+--------------------+------------------+---------+\n",
      "only showing top 20 rows\n"
     ]
    }
   ],
   "source": [
    "df.show()"
   ]
  },
  {
   "cell_type": "code",
   "execution_count": 34,
   "id": "8c1bc5ff",
   "metadata": {},
   "outputs": [
    {
     "name": "stdout",
     "output_type": "stream",
     "text": [
      "+----------+---+---------------+-----+--------------------+---------------------+----------------------+--------------------+------------------+---------+\n",
      "|College_ID| IQ|Prev_Sem_Result| CGPA|Academic_Performance|Internship_Experience|Extra_Curricular_Score|Communication_Skills|Projects_Completed|Placement|\n",
      "+----------+---+---------------+-----+--------------------+---------------------+----------------------+--------------------+------------------+---------+\n",
      "|   CLG0064|103|           8.64| 9.01|                   7|                  Yes|                     8|                   6|                 1|       No|\n",
      "|   CLG0050|104|           9.61|10.01|                  10|                  Yes|                     9|                   2|                 4|       No|\n",
      "|   CLG0087| 78|           8.67| 9.17|                   7|                  Yes|                    10|                  10|                 2|      Yes|\n",
      "|   CLG0024|101|           9.07| 9.45|                   2|                   No|                     2|                   7|                 2|       No|\n",
      "|   CLG0025| 95|           9.18| 9.61|                   4|                  Yes|                     3|                   3|                 3|       No|\n",
      "|   CLG0077| 90|           9.68| 9.58|                   9|                  Yes|                    10|                   1|                 4|       No|\n",
      "|   CLG0073|112|           8.77| 9.01|                   3|                  Yes|                     1|                   9|                 4|      Yes|\n",
      "|   CLG0097| 81|           8.61| 9.11|                   9|                  Yes|                     8|                   7|                 4|       No|\n",
      "|   CLG0014| 70|           9.39| 9.27|                   8|                   No|                     4|                   3|                 4|       No|\n",
      "|   CLG0077|115|           9.52| 9.56|                   5|                   No|                     4|                   6|                 3|      Yes|\n",
      "|   CLG0030|113|           9.54| 9.38|                   3|                   No|                     2|                  10|                 3|      Yes|\n",
      "|   CLG0046| 95|           9.63| 9.96|                   5|                   No|                     1|                   5|                 3|       No|\n",
      "|   CLG0069|105|           9.62| 9.12|                   1|                  Yes|                     1|                   2|                 1|       No|\n",
      "|   CLG0088|123|           8.74| 9.11|                   8|                   No|                     2|                   9|                 0|      Yes|\n",
      "|   CLG0097|101|           9.47| 9.44|                   2|                   No|                     5|                   9|                 4|      Yes|\n",
      "|   CLG0066|104|           9.19| 9.39|                  10|                  Yes|                     3|                  10|                 4|      Yes|\n",
      "|   CLG0015|107|           9.37| 9.85|                   8|                  Yes|                     7|                   1|                 5|       No|\n",
      "|   CLG0016|104|           8.81| 9.26|                  10|                   No|                    10|                   9|                 5|      Yes|\n",
      "|   CLG0019| 96|           9.68| 9.19|                   1|                  Yes|                    10|                   4|                 0|       No|\n",
      "|   CLG0011| 98|           9.62| 9.57|                   9|                   No|                     5|                   9|                 5|      Yes|\n",
      "+----------+---+---------------+-----+--------------------+---------------------+----------------------+--------------------+------------------+---------+\n",
      "only showing top 20 rows\n",
      "2050\n",
      "10000\n"
     ]
    }
   ],
   "source": [
    "df2=df.filter('CGPA>9')\n",
    "df2=df.filter(col('CGPA')>9)\n",
    "df2.show()\n",
    "\n",
    "print(df2.count())\n",
    "print(df.count())\n"
   ]
  },
  {
   "cell_type": "code",
   "execution_count": 35,
   "id": "e96be6d8",
   "metadata": {},
   "outputs": [],
   "source": [
    "df3=df.withColumn('CGPA as %',df.CGPA*10)"
   ]
  },
  {
   "cell_type": "code",
   "execution_count": 37,
   "id": "6249188f",
   "metadata": {},
   "outputs": [
    {
     "name": "stdout",
     "output_type": "stream",
     "text": [
      "+-----+------------------+\n",
      "| CGPA|         CGPA as %|\n",
      "+-----+------------------+\n",
      "| 6.28|62.800000000000004|\n",
      "| 5.37|              53.7|\n",
      "| 5.83|              58.3|\n",
      "| 5.75|              57.5|\n",
      "| 7.69|              76.9|\n",
      "| 5.32|              53.2|\n",
      "| 6.58|              65.8|\n",
      "| 8.76|              87.6|\n",
      "| 6.33|              63.3|\n",
      "|  8.6|              86.0|\n",
      "|  8.9|              89.0|\n",
      "| 6.51|              65.1|\n",
      "| 9.01|              90.1|\n",
      "|  8.4|              84.0|\n",
      "| 7.31|              73.1|\n",
      "|  5.8|              58.0|\n",
      "| 7.54|              75.4|\n",
      "|10.01|             100.1|\n",
      "| 8.15|              81.5|\n",
      "| 5.56|55.599999999999994|\n",
      "| 8.07|              80.7|\n",
      "| 7.11| 71.10000000000001|\n",
      "| 8.22|              82.2|\n",
      "| 9.17|              91.7|\n",
      "| 7.86| 78.60000000000001|\n",
      "| 9.45|              94.5|\n",
      "| 8.86|              88.6|\n",
      "| 8.48| 84.80000000000001|\n",
      "| 5.33|              53.3|\n",
      "| 9.61|              96.1|\n",
      "| 9.58|              95.8|\n",
      "|  6.1|              61.0|\n",
      "| 7.02| 70.19999999999999|\n",
      "| 6.51|              65.1|\n",
      "| 9.01|              90.1|\n",
      "| 9.11|              91.1|\n",
      "| 5.97|59.699999999999996|\n",
      "| 9.27| 92.69999999999999|\n",
      "| 5.96|              59.6|\n",
      "| 8.86|              88.6|\n",
      "| 6.98| 69.80000000000001|\n",
      "| 6.39|              63.9|\n",
      "| 5.51|55.099999999999994|\n",
      "| 5.89|              58.9|\n",
      "| 8.72|              87.2|\n",
      "| 8.16|              81.6|\n",
      "| 5.16|              51.6|\n",
      "| 5.14|              51.4|\n",
      "| 5.11|              51.1|\n",
      "| 8.48| 84.80000000000001|\n",
      "+-----+------------------+\n",
      "only showing top 50 rows\n"
     ]
    }
   ],
   "source": [
    "df3.select('CGPA','CGPA as %').show(50)"
   ]
  },
  {
   "cell_type": "markdown",
   "id": "3a1d65ea",
   "metadata": {},
   "source": []
  },
  {
   "cell_type": "code",
   "execution_count": 47,
   "id": "0848723f",
   "metadata": {},
   "outputs": [
    {
     "name": "stdout",
     "output_type": "stream",
     "text": [
      "10000\n",
      "+----------+---+---------------+-----+--------------------+---------------------+----------------------+--------------------+------------------+---------+\n",
      "|College_ID| IQ|Prev_Sem_Result| CGPA|Academic_Performance|Internship_Experience|Extra_Curricular_Score|Communication_Skills|Projects_Completed|Placement|\n",
      "+----------+---+---------------+-----+--------------------+---------------------+----------------------+--------------------+------------------+---------+\n",
      "|   CLG0030|107|           6.61| 6.28|                   8|                   No|                     8|                   8|                 4|       No|\n",
      "|   CLG0061| 97|           5.52| 5.37|                   8|                   No|                     7|                   8|                 0|       No|\n",
      "|   CLG0036|109|           5.36| 5.83|                   9|                   No|                     3|                   1|                 1|       No|\n",
      "|   CLG0055|122|           5.47| 5.75|                   6|                  Yes|                     1|                   6|                 1|       No|\n",
      "|   CLG0004| 96|           7.91| 7.69|                   7|                   No|                     8|                  10|                 2|       No|\n",
      "|   CLG0015| 96|           5.26| 5.32|                   7|                   No|                     5|                   8|                 0|       No|\n",
      "|   CLG0071|123|           6.68| 6.58|                   5|                   No|                     7|                   8|                 2|      Yes|\n",
      "|   CLG0096|111|           8.77| 8.76|                   7|                   No|                     3|                   1|                 2|      Yes|\n",
      "|   CLG0097| 92|           6.47| 6.33|                   9|                   No|                     7|                   8|                 5|       No|\n",
      "|   CLG0057|108|           8.82|  8.6|                   4|                   No|                     5|                   9|                 1|       No|\n",
      "|   CLG0063| 93|           8.73|  8.9|                   2|                  Yes|                     5|                   6|                 0|       No|\n",
      "|   CLG0077| 93|           6.23| 6.51|                   8|                   No|                     5|                   7|                 4|       No|\n",
      "|   CLG0064|103|           8.64| 9.01|                   7|                  Yes|                     8|                   6|                 1|       No|\n",
      "|   CLG0017| 71|           8.74|  8.4|                   6|                   No|                     0|                   5|                 2|       No|\n",
      "|   CLG0053| 74|           6.99| 7.31|                   7|                   No|                     0|                   1|                 2|       No|\n",
      "|   CLG0040| 91|           6.05|  5.8|                   3|                   No|                     4|                   2|                 3|       No|\n",
      "|   CLG0070| 84|           7.61| 7.54|                   6|                   No|                     0|                  10|                 0|       No|\n",
      "|   CLG0050|104|           9.61|10.01|                  10|                  Yes|                     9|                   2|                 4|       No|\n",
      "|   CLG0068| 86|            8.2| 8.15|                   7|                   No|                     8|                   9|                 4|      Yes|\n",
      "|   CLG0015| 78|           5.86| 5.56|                   7|                  Yes|                     3|                   6|                 2|       No|\n",
      "+----------+---+---------------+-----+--------------------+---------------------+----------------------+--------------------+------------------+---------+\n",
      "only showing top 20 rows\n"
     ]
    }
   ],
   "source": [
    "print(df.count())\n",
    "df.show()\n",
    "\n"
   ]
  },
  {
   "cell_type": "code",
   "execution_count": 46,
   "id": "1f998933",
   "metadata": {},
   "outputs": [
    {
     "name": "stdout",
     "output_type": "stream",
     "text": [
      "+---------+\n",
      "|sum(CGPA)|\n",
      "+---------+\n",
      "| 75323.79|\n",
      "+---------+\n",
      "\n",
      "+---------+\n",
      "|avg(CGPA)|\n",
      "+---------+\n",
      "| 7.532379|\n",
      "+---------+\n",
      "\n",
      "+---------+\n",
      "|min(CGPA)|\n",
      "+---------+\n",
      "|     4.54|\n",
      "+---------+\n",
      "\n"
     ]
    }
   ],
   "source": [
    "from pyspark.sql.functions import sum, avg, min,max,count\n",
    "\n",
    "df.select(sum('CGPA')).show()\n",
    "df.select(avg('CGPA')).show()\n",
    "df.select(min('CGPA')).show()"
   ]
  },
  {
   "cell_type": "code",
   "execution_count": 49,
   "id": "765d7d2e",
   "metadata": {},
   "outputs": [
    {
     "name": "stdout",
     "output_type": "stream",
     "text": [
      "+----------+-----+\n",
      "|College_ID| CGPA|\n",
      "+----------+-----+\n",
      "|   CLG0030| 6.28|\n",
      "|   CLG0061| 5.37|\n",
      "|   CLG0036| 5.83|\n",
      "|   CLG0055| 5.75|\n",
      "|   CLG0004| 7.69|\n",
      "|   CLG0015| 5.32|\n",
      "|   CLG0071| 6.58|\n",
      "|   CLG0096| 8.76|\n",
      "|   CLG0097| 6.33|\n",
      "|   CLG0057|  8.6|\n",
      "|   CLG0063|  8.9|\n",
      "|   CLG0077| 6.51|\n",
      "|   CLG0064| 9.01|\n",
      "|   CLG0017|  8.4|\n",
      "|   CLG0053| 7.31|\n",
      "|   CLG0040|  5.8|\n",
      "|   CLG0070| 7.54|\n",
      "|   CLG0050|10.01|\n",
      "|   CLG0068| 8.15|\n",
      "|   CLG0015| 5.56|\n",
      "+----------+-----+\n",
      "only showing top 20 rows\n"
     ]
    }
   ],
   "source": [
    "df_new=df.select('College_ID',\"CGPA\")\n",
    "df_new.show()"
   ]
  },
  {
   "cell_type": "code",
   "execution_count": null,
   "id": "163d3d12",
   "metadata": {},
   "outputs": [],
   "source": [
    "df.write.option('header',True).csv('/home/5AIMLA2/Documents/230962322/BDA-LAB/export_csv1.cs')"
   ]
  },
  {
   "cell_type": "markdown",
   "id": "0cbb5428",
   "metadata": {},
   "source": [
    "Q5. Load a text file into an rdd assuming the file is stored locally.\n",
    "    a) Find the total number of words and compare it with the unique words in the file.\n",
    "    b) Find the number of words that begin with a specific letter\n",
    "    c) Count the frequency of each word in the file and save the output in a separate file."
   ]
  },
  {
   "cell_type": "code",
   "execution_count": null,
   "id": "af02bbf5",
   "metadata": {},
   "outputs": [],
   "source": [
    "from pyspark.sql import SparkSession\n",
    "\n",
    "# Initialize SparkSession (and get SparkContext from it)\n",
    "spark = SparkSession.builder \\\n",
    "    .appName(\"RDD Word Count\") \\\n",
    "    .master(\"local[*]\") \\\n",
    "    .getOrCreate()\n",
    "\n",
    "sc = spark.sparkContext\n",
    "\n",
    "# Path to local text file\n",
    "file_path = \"path/to/your/localfile.txt\"\n",
    "\n",
    "# Load the text file into an RDD (each element is a line)\n",
    "lines = sc.textFile(file_path)\n",
    "\n",
    "# Split lines into words, flatten the result\n",
    "words = lines.flatMap(lambda line: line.split())\n",
    "\n",
    "# a) Total number of words\n",
    "total_words = words.count()\n",
    "\n",
    "# a) Number of unique words\n",
    "unique_words = words.distinct().count()\n",
    "\n",
    "print(f\"Total number of words: {total_words}\")\n",
    "print(f\"Number of unique words: {unique_words}\")\n",
    "\n",
    "# b) Number of words starting with a specific letter (e.g., 'a')\n",
    "letter = 'a'\n",
    "words_starting_with_letter = words.filter(lambda w: w.lower().startswith(letter)).count()\n",
    "\n",
    "print(f\"Number of words starting with '{letter}': {words_starting_with_letter}\")\n",
    "\n",
    "# c) Count the frequency of each word\n",
    "word_counts = words.map(lambda w: (w.lower(), 1)) \\\n",
    "                   .reduceByKey(lambda a, b: a + b)\n",
    "\n",
    "# Show top 10 word counts\n",
    "print(\"Top 10 word counts:\")\n",
    "for word, count in word_counts.take(10):\n",
    "    print(f\"{word}: {count}\")\n",
    "\n",
    "# Save the word counts to an output file (local or HDFS)\n",
    "output_path = \"path/to/save/word_counts_output\"\n",
    "word_counts.saveAsTextFile(output_path)\n",
    "\n",
    "print(f\"Word counts saved to {output_path}\")\n",
    "\n",
    "# Stop Spark session\n",
    "spark.stop()\n"
   ]
  }
 ],
 "metadata": {
  "kernelspec": {
   "display_name": "myenv",
   "language": "python",
   "name": "python3"
  },
  "language_info": {
   "codemirror_mode": {
    "name": "ipython",
    "version": 3
   },
   "file_extension": ".py",
   "mimetype": "text/x-python",
   "name": "python",
   "nbconvert_exporter": "python",
   "pygments_lexer": "ipython3",
   "version": "3.11.2"
  }
 },
 "nbformat": 4,
 "nbformat_minor": 5
}
