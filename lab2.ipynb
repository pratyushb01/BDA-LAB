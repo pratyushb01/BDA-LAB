{
 "cells": [
  {
   "cell_type": "code",
   "execution_count": 1,
   "id": "4c138110",
   "metadata": {},
   "outputs": [
    {
     "ename": "Py4JJavaError",
     "evalue": "An error occurred while calling None.org.apache.spark.api.java.JavaSparkContext.\n: java.lang.UnsupportedOperationException: getSubject is supported only if a security manager is allowed\r\n\tat java.base/javax.security.auth.Subject.getSubject(Subject.java:347)\r\n\tat org.apache.hadoop.security.UserGroupInformation.getCurrentUser(UserGroupInformation.java:588)\r\n\tat org.apache.spark.util.Utils$.$anonfun$getCurrentUserName$1(Utils.scala:2446)\r\n\tat scala.Option.getOrElse(Option.scala:201)\r\n\tat org.apache.spark.util.Utils$.getCurrentUserName(Utils.scala:2446)\r\n\tat org.apache.spark.SparkContext.<init>(SparkContext.scala:339)\r\n\tat org.apache.spark.api.java.JavaSparkContext.<init>(JavaSparkContext.scala:59)\r\n\tat java.base/jdk.internal.reflect.DirectConstructorHandleAccessor.newInstance(DirectConstructorHandleAccessor.java:62)\r\n\tat java.base/java.lang.reflect.Constructor.newInstanceWithCaller(Constructor.java:501)\r\n\tat java.base/java.lang.reflect.Constructor.newInstance(Constructor.java:485)\r\n\tat py4j.reflection.MethodInvoker.invoke(MethodInvoker.java:247)\r\n\tat py4j.reflection.ReflectionEngine.invoke(ReflectionEngine.java:374)\r\n\tat py4j.Gateway.invoke(Gateway.java:238)\r\n\tat py4j.commands.ConstructorCommand.invokeConstructor(ConstructorCommand.java:80)\r\n\tat py4j.commands.ConstructorCommand.execute(ConstructorCommand.java:69)\r\n\tat py4j.ClientServerConnection.waitForCommands(ClientServerConnection.java:184)\r\n\tat py4j.ClientServerConnection.run(ClientServerConnection.java:108)\r\n\tat java.base/java.lang.Thread.run(Thread.java:1575)\r\n",
     "output_type": "error",
     "traceback": [
      "\u001b[31m---------------------------------------------------------------------------\u001b[39m",
      "\u001b[31mPy4JJavaError\u001b[39m                             Traceback (most recent call last)",
      "\u001b[36mCell\u001b[39m\u001b[36m \u001b[39m\u001b[32mIn[1]\u001b[39m\u001b[32m, line 3\u001b[39m\n\u001b[32m      1\u001b[39m \u001b[38;5;28;01mfrom\u001b[39;00m\u001b[38;5;250m \u001b[39m\u001b[34;01mpyspark\u001b[39;00m\u001b[34;01m.\u001b[39;00m\u001b[34;01msql\u001b[39;00m\u001b[38;5;250m \u001b[39m\u001b[38;5;28;01mimport\u001b[39;00m SparkSession\n\u001b[32m      2\u001b[39m \u001b[38;5;28;01mfrom\u001b[39;00m\u001b[38;5;250m \u001b[39m\u001b[34;01mpyspark\u001b[39;00m\u001b[34;01m.\u001b[39;00m\u001b[34;01msql\u001b[39;00m\u001b[34;01m.\u001b[39;00m\u001b[34;01mfunctions\u001b[39;00m\u001b[38;5;250m \u001b[39m\u001b[38;5;28;01mimport\u001b[39;00m col\n\u001b[32m----> \u001b[39m\u001b[32m3\u001b[39m spark=\u001b[43mSparkSession\u001b[49m\u001b[43m.\u001b[49m\u001b[43mbuilder\u001b[49m\u001b[43m.\u001b[49m\u001b[43mappName\u001b[49m\u001b[43m(\u001b[49m\u001b[33;43m\"\u001b[39;49m\u001b[33;43mPlacement Dataset Operations 1\u001b[39;49m\u001b[33;43m\"\u001b[39;49m\u001b[43m)\u001b[49m\u001b[43m.\u001b[49m\u001b[43mgetOrCreate\u001b[49m\u001b[43m(\u001b[49m\u001b[43m)\u001b[49m\n",
      "\u001b[36mFile \u001b[39m\u001b[32mc:\\Users\\pratyush\\pyspark_env\\Lib\\site-packages\\pyspark\\sql\\session.py:556\u001b[39m, in \u001b[36mSparkSession.Builder.getOrCreate\u001b[39m\u001b[34m(self)\u001b[39m\n\u001b[32m    554\u001b[39m     sparkConf.set(key, value)\n\u001b[32m    555\u001b[39m \u001b[38;5;66;03m# This SparkContext may be an existing one.\u001b[39;00m\n\u001b[32m--> \u001b[39m\u001b[32m556\u001b[39m sc = \u001b[43mSparkContext\u001b[49m\u001b[43m.\u001b[49m\u001b[43mgetOrCreate\u001b[49m\u001b[43m(\u001b[49m\u001b[43msparkConf\u001b[49m\u001b[43m)\u001b[49m\n\u001b[32m    557\u001b[39m \u001b[38;5;66;03m# Do not update `SparkConf` for existing `SparkContext`, as it's shared\u001b[39;00m\n\u001b[32m    558\u001b[39m \u001b[38;5;66;03m# by all sessions.\u001b[39;00m\n\u001b[32m    559\u001b[39m session = SparkSession(sc, options=\u001b[38;5;28mself\u001b[39m._options)\n",
      "\u001b[36mFile \u001b[39m\u001b[32mc:\\Users\\pratyush\\pyspark_env\\Lib\\site-packages\\pyspark\\core\\context.py:523\u001b[39m, in \u001b[36mSparkContext.getOrCreate\u001b[39m\u001b[34m(cls, conf)\u001b[39m\n\u001b[32m    521\u001b[39m \u001b[38;5;28;01mwith\u001b[39;00m SparkContext._lock:\n\u001b[32m    522\u001b[39m     \u001b[38;5;28;01mif\u001b[39;00m SparkContext._active_spark_context \u001b[38;5;129;01mis\u001b[39;00m \u001b[38;5;28;01mNone\u001b[39;00m:\n\u001b[32m--> \u001b[39m\u001b[32m523\u001b[39m         \u001b[43mSparkContext\u001b[49m\u001b[43m(\u001b[49m\u001b[43mconf\u001b[49m\u001b[43m=\u001b[49m\u001b[43mconf\u001b[49m\u001b[43m \u001b[49m\u001b[38;5;129;43;01mor\u001b[39;49;00m\u001b[43m \u001b[49m\u001b[43mSparkConf\u001b[49m\u001b[43m(\u001b[49m\u001b[43m)\u001b[49m\u001b[43m)\u001b[49m\n\u001b[32m    524\u001b[39m     \u001b[38;5;28;01massert\u001b[39;00m SparkContext._active_spark_context \u001b[38;5;129;01mis\u001b[39;00m \u001b[38;5;129;01mnot\u001b[39;00m \u001b[38;5;28;01mNone\u001b[39;00m\n\u001b[32m    525\u001b[39m     \u001b[38;5;28;01mreturn\u001b[39;00m SparkContext._active_spark_context\n",
      "\u001b[36mFile \u001b[39m\u001b[32mc:\\Users\\pratyush\\pyspark_env\\Lib\\site-packages\\pyspark\\core\\context.py:207\u001b[39m, in \u001b[36mSparkContext.__init__\u001b[39m\u001b[34m(self, master, appName, sparkHome, pyFiles, environment, batchSize, serializer, conf, gateway, jsc, profiler_cls, udf_profiler_cls, memory_profiler_cls)\u001b[39m\n\u001b[32m    205\u001b[39m SparkContext._ensure_initialized(\u001b[38;5;28mself\u001b[39m, gateway=gateway, conf=conf)\n\u001b[32m    206\u001b[39m \u001b[38;5;28;01mtry\u001b[39;00m:\n\u001b[32m--> \u001b[39m\u001b[32m207\u001b[39m     \u001b[38;5;28;43mself\u001b[39;49m\u001b[43m.\u001b[49m\u001b[43m_do_init\u001b[49m\u001b[43m(\u001b[49m\n\u001b[32m    208\u001b[39m \u001b[43m        \u001b[49m\u001b[43mmaster\u001b[49m\u001b[43m,\u001b[49m\n\u001b[32m    209\u001b[39m \u001b[43m        \u001b[49m\u001b[43mappName\u001b[49m\u001b[43m,\u001b[49m\n\u001b[32m    210\u001b[39m \u001b[43m        \u001b[49m\u001b[43msparkHome\u001b[49m\u001b[43m,\u001b[49m\n\u001b[32m    211\u001b[39m \u001b[43m        \u001b[49m\u001b[43mpyFiles\u001b[49m\u001b[43m,\u001b[49m\n\u001b[32m    212\u001b[39m \u001b[43m        \u001b[49m\u001b[43menvironment\u001b[49m\u001b[43m,\u001b[49m\n\u001b[32m    213\u001b[39m \u001b[43m        \u001b[49m\u001b[43mbatchSize\u001b[49m\u001b[43m,\u001b[49m\n\u001b[32m    214\u001b[39m \u001b[43m        \u001b[49m\u001b[43mserializer\u001b[49m\u001b[43m,\u001b[49m\n\u001b[32m    215\u001b[39m \u001b[43m        \u001b[49m\u001b[43mconf\u001b[49m\u001b[43m,\u001b[49m\n\u001b[32m    216\u001b[39m \u001b[43m        \u001b[49m\u001b[43mjsc\u001b[49m\u001b[43m,\u001b[49m\n\u001b[32m    217\u001b[39m \u001b[43m        \u001b[49m\u001b[43mprofiler_cls\u001b[49m\u001b[43m,\u001b[49m\n\u001b[32m    218\u001b[39m \u001b[43m        \u001b[49m\u001b[43mudf_profiler_cls\u001b[49m\u001b[43m,\u001b[49m\n\u001b[32m    219\u001b[39m \u001b[43m        \u001b[49m\u001b[43mmemory_profiler_cls\u001b[49m\u001b[43m,\u001b[49m\n\u001b[32m    220\u001b[39m \u001b[43m    \u001b[49m\u001b[43m)\u001b[49m\n\u001b[32m    221\u001b[39m \u001b[38;5;28;01mexcept\u001b[39;00m \u001b[38;5;167;01mBaseException\u001b[39;00m:\n\u001b[32m    222\u001b[39m     \u001b[38;5;66;03m# If an error occurs, clean up in order to allow future SparkContext creation:\u001b[39;00m\n\u001b[32m    223\u001b[39m     \u001b[38;5;28mself\u001b[39m.stop()\n",
      "\u001b[36mFile \u001b[39m\u001b[32mc:\\Users\\pratyush\\pyspark_env\\Lib\\site-packages\\pyspark\\core\\context.py:300\u001b[39m, in \u001b[36mSparkContext._do_init\u001b[39m\u001b[34m(self, master, appName, sparkHome, pyFiles, environment, batchSize, serializer, conf, jsc, profiler_cls, udf_profiler_cls, memory_profiler_cls)\u001b[39m\n\u001b[32m    297\u001b[39m \u001b[38;5;28mself\u001b[39m.environment[\u001b[33m\"\u001b[39m\u001b[33mPYTHONHASHSEED\u001b[39m\u001b[33m\"\u001b[39m] = os.environ.get(\u001b[33m\"\u001b[39m\u001b[33mPYTHONHASHSEED\u001b[39m\u001b[33m\"\u001b[39m, \u001b[33m\"\u001b[39m\u001b[33m0\u001b[39m\u001b[33m\"\u001b[39m)\n\u001b[32m    299\u001b[39m \u001b[38;5;66;03m# Create the Java SparkContext through Py4J\u001b[39;00m\n\u001b[32m--> \u001b[39m\u001b[32m300\u001b[39m \u001b[38;5;28mself\u001b[39m._jsc = jsc \u001b[38;5;129;01mor\u001b[39;00m \u001b[38;5;28;43mself\u001b[39;49m\u001b[43m.\u001b[49m\u001b[43m_initialize_context\u001b[49m\u001b[43m(\u001b[49m\u001b[38;5;28;43mself\u001b[39;49m\u001b[43m.\u001b[49m\u001b[43m_conf\u001b[49m\u001b[43m.\u001b[49m\u001b[43m_jconf\u001b[49m\u001b[43m)\u001b[49m\n\u001b[32m    301\u001b[39m \u001b[38;5;66;03m# Reset the SparkConf to the one actually used by the SparkContext in JVM.\u001b[39;00m\n\u001b[32m    302\u001b[39m \u001b[38;5;28mself\u001b[39m._conf = SparkConf(_jconf=\u001b[38;5;28mself\u001b[39m._jsc.sc().conf())\n",
      "\u001b[36mFile \u001b[39m\u001b[32mc:\\Users\\pratyush\\pyspark_env\\Lib\\site-packages\\pyspark\\core\\context.py:429\u001b[39m, in \u001b[36mSparkContext._initialize_context\u001b[39m\u001b[34m(self, jconf)\u001b[39m\n\u001b[32m    425\u001b[39m \u001b[38;5;250m\u001b[39m\u001b[33;03m\"\"\"\u001b[39;00m\n\u001b[32m    426\u001b[39m \u001b[33;03mInitialize SparkContext in function to allow subclass specific initialization\u001b[39;00m\n\u001b[32m    427\u001b[39m \u001b[33;03m\"\"\"\u001b[39;00m\n\u001b[32m    428\u001b[39m \u001b[38;5;28;01massert\u001b[39;00m \u001b[38;5;28mself\u001b[39m._jvm \u001b[38;5;129;01mis\u001b[39;00m \u001b[38;5;129;01mnot\u001b[39;00m \u001b[38;5;28;01mNone\u001b[39;00m\n\u001b[32m--> \u001b[39m\u001b[32m429\u001b[39m \u001b[38;5;28;01mreturn\u001b[39;00m \u001b[38;5;28;43mself\u001b[39;49m\u001b[43m.\u001b[49m\u001b[43m_jvm\u001b[49m\u001b[43m.\u001b[49m\u001b[43mJavaSparkContext\u001b[49m\u001b[43m(\u001b[49m\u001b[43mjconf\u001b[49m\u001b[43m)\u001b[49m\n",
      "\u001b[36mFile \u001b[39m\u001b[32mc:\\Users\\pratyush\\pyspark_env\\Lib\\site-packages\\py4j\\java_gateway.py:1627\u001b[39m, in \u001b[36mJavaClass.__call__\u001b[39m\u001b[34m(self, *args)\u001b[39m\n\u001b[32m   1621\u001b[39m command = proto.CONSTRUCTOR_COMMAND_NAME +\\\n\u001b[32m   1622\u001b[39m     \u001b[38;5;28mself\u001b[39m._command_header +\\\n\u001b[32m   1623\u001b[39m     args_command +\\\n\u001b[32m   1624\u001b[39m     proto.END_COMMAND_PART\n\u001b[32m   1626\u001b[39m answer = \u001b[38;5;28mself\u001b[39m._gateway_client.send_command(command)\n\u001b[32m-> \u001b[39m\u001b[32m1627\u001b[39m return_value = \u001b[43mget_return_value\u001b[49m\u001b[43m(\u001b[49m\n\u001b[32m   1628\u001b[39m \u001b[43m    \u001b[49m\u001b[43manswer\u001b[49m\u001b[43m,\u001b[49m\u001b[43m \u001b[49m\u001b[38;5;28;43mself\u001b[39;49m\u001b[43m.\u001b[49m\u001b[43m_gateway_client\u001b[49m\u001b[43m,\u001b[49m\u001b[43m \u001b[49m\u001b[38;5;28;43;01mNone\u001b[39;49;00m\u001b[43m,\u001b[49m\u001b[43m \u001b[49m\u001b[38;5;28;43mself\u001b[39;49m\u001b[43m.\u001b[49m\u001b[43m_fqn\u001b[49m\u001b[43m)\u001b[49m\n\u001b[32m   1630\u001b[39m \u001b[38;5;28;01mfor\u001b[39;00m temp_arg \u001b[38;5;129;01min\u001b[39;00m temp_args:\n\u001b[32m   1631\u001b[39m     \u001b[38;5;28;01mif\u001b[39;00m \u001b[38;5;28mhasattr\u001b[39m(temp_arg, \u001b[33m\"\u001b[39m\u001b[33m_detach\u001b[39m\u001b[33m\"\u001b[39m):\n",
      "\u001b[36mFile \u001b[39m\u001b[32mc:\\Users\\pratyush\\pyspark_env\\Lib\\site-packages\\py4j\\protocol.py:327\u001b[39m, in \u001b[36mget_return_value\u001b[39m\u001b[34m(answer, gateway_client, target_id, name)\u001b[39m\n\u001b[32m    325\u001b[39m value = OUTPUT_CONVERTER[\u001b[38;5;28mtype\u001b[39m](answer[\u001b[32m2\u001b[39m:], gateway_client)\n\u001b[32m    326\u001b[39m \u001b[38;5;28;01mif\u001b[39;00m answer[\u001b[32m1\u001b[39m] == REFERENCE_TYPE:\n\u001b[32m--> \u001b[39m\u001b[32m327\u001b[39m     \u001b[38;5;28;01mraise\u001b[39;00m Py4JJavaError(\n\u001b[32m    328\u001b[39m         \u001b[33m\"\u001b[39m\u001b[33mAn error occurred while calling \u001b[39m\u001b[38;5;132;01m{0}\u001b[39;00m\u001b[38;5;132;01m{1}\u001b[39;00m\u001b[38;5;132;01m{2}\u001b[39;00m\u001b[33m.\u001b[39m\u001b[38;5;130;01m\\n\u001b[39;00m\u001b[33m\"\u001b[39m.\n\u001b[32m    329\u001b[39m         \u001b[38;5;28mformat\u001b[39m(target_id, \u001b[33m\"\u001b[39m\u001b[33m.\u001b[39m\u001b[33m\"\u001b[39m, name), value)\n\u001b[32m    330\u001b[39m \u001b[38;5;28;01melse\u001b[39;00m:\n\u001b[32m    331\u001b[39m     \u001b[38;5;28;01mraise\u001b[39;00m Py4JError(\n\u001b[32m    332\u001b[39m         \u001b[33m\"\u001b[39m\u001b[33mAn error occurred while calling \u001b[39m\u001b[38;5;132;01m{0}\u001b[39;00m\u001b[38;5;132;01m{1}\u001b[39;00m\u001b[38;5;132;01m{2}\u001b[39;00m\u001b[33m. Trace:\u001b[39m\u001b[38;5;130;01m\\n\u001b[39;00m\u001b[38;5;132;01m{3}\u001b[39;00m\u001b[38;5;130;01m\\n\u001b[39;00m\u001b[33m\"\u001b[39m.\n\u001b[32m    333\u001b[39m         \u001b[38;5;28mformat\u001b[39m(target_id, \u001b[33m\"\u001b[39m\u001b[33m.\u001b[39m\u001b[33m\"\u001b[39m, name, value))\n",
      "\u001b[31mPy4JJavaError\u001b[39m: An error occurred while calling None.org.apache.spark.api.java.JavaSparkContext.\n: java.lang.UnsupportedOperationException: getSubject is supported only if a security manager is allowed\r\n\tat java.base/javax.security.auth.Subject.getSubject(Subject.java:347)\r\n\tat org.apache.hadoop.security.UserGroupInformation.getCurrentUser(UserGroupInformation.java:588)\r\n\tat org.apache.spark.util.Utils$.$anonfun$getCurrentUserName$1(Utils.scala:2446)\r\n\tat scala.Option.getOrElse(Option.scala:201)\r\n\tat org.apache.spark.util.Utils$.getCurrentUserName(Utils.scala:2446)\r\n\tat org.apache.spark.SparkContext.<init>(SparkContext.scala:339)\r\n\tat org.apache.spark.api.java.JavaSparkContext.<init>(JavaSparkContext.scala:59)\r\n\tat java.base/jdk.internal.reflect.DirectConstructorHandleAccessor.newInstance(DirectConstructorHandleAccessor.java:62)\r\n\tat java.base/java.lang.reflect.Constructor.newInstanceWithCaller(Constructor.java:501)\r\n\tat java.base/java.lang.reflect.Constructor.newInstance(Constructor.java:485)\r\n\tat py4j.reflection.MethodInvoker.invoke(MethodInvoker.java:247)\r\n\tat py4j.reflection.ReflectionEngine.invoke(ReflectionEngine.java:374)\r\n\tat py4j.Gateway.invoke(Gateway.java:238)\r\n\tat py4j.commands.ConstructorCommand.invokeConstructor(ConstructorCommand.java:80)\r\n\tat py4j.commands.ConstructorCommand.execute(ConstructorCommand.java:69)\r\n\tat py4j.ClientServerConnection.waitForCommands(ClientServerConnection.java:184)\r\n\tat py4j.ClientServerConnection.run(ClientServerConnection.java:108)\r\n\tat java.base/java.lang.Thread.run(Thread.java:1575)\r\n"
     ]
    }
   ],
   "source": [
    "from pyspark.sql import SparkSession\n",
    "from pyspark.sql.functions import col\n",
    "spark=SparkSession.builder.appName(\"Placement Dataset Operations 1\").getOrCreate()"
   ]
  },
  {
   "cell_type": "code",
   "execution_count": null,
   "id": "e67659ac",
   "metadata": {},
   "outputs": [],
   "source": [
    "df=spark.read.csv(\"/home/5AIMLA2/Downloads/college_student_placement_dataset.csv\",header=True,inferSchema=True,sep=\",\")"
   ]
  },
  {
   "cell_type": "code",
   "execution_count": null,
   "id": "4c1a3692",
   "metadata": {},
   "outputs": [
    {
     "name": "stdout",
     "output_type": "stream",
     "text": [
      "+----------+---+---------------+-----+--------------------+---------------------+----------------------+--------------------+------------------+---------+\n",
      "|College_ID| IQ|Prev_Sem_Result| CGPA|Academic_Performance|Internship_Experience|Extra_Curricular_Score|Communication_Skills|Projects_Completed|Placement|\n",
      "+----------+---+---------------+-----+--------------------+---------------------+----------------------+--------------------+------------------+---------+\n",
      "|   CLG0030|107|           6.61| 6.28|                   8|                   No|                     8|                   8|                 4|       No|\n",
      "|   CLG0061| 97|           5.52| 5.37|                   8|                   No|                     7|                   8|                 0|       No|\n",
      "|   CLG0036|109|           5.36| 5.83|                   9|                   No|                     3|                   1|                 1|       No|\n",
      "|   CLG0055|122|           5.47| 5.75|                   6|                  Yes|                     1|                   6|                 1|       No|\n",
      "|   CLG0004| 96|           7.91| 7.69|                   7|                   No|                     8|                  10|                 2|       No|\n",
      "|   CLG0015| 96|           5.26| 5.32|                   7|                   No|                     5|                   8|                 0|       No|\n",
      "|   CLG0071|123|           6.68| 6.58|                   5|                   No|                     7|                   8|                 2|      Yes|\n",
      "|   CLG0096|111|           8.77| 8.76|                   7|                   No|                     3|                   1|                 2|      Yes|\n",
      "|   CLG0097| 92|           6.47| 6.33|                   9|                   No|                     7|                   8|                 5|       No|\n",
      "|   CLG0057|108|           8.82|  8.6|                   4|                   No|                     5|                   9|                 1|       No|\n",
      "|   CLG0063| 93|           8.73|  8.9|                   2|                  Yes|                     5|                   6|                 0|       No|\n",
      "|   CLG0077| 93|           6.23| 6.51|                   8|                   No|                     5|                   7|                 4|       No|\n",
      "|   CLG0064|103|           8.64| 9.01|                   7|                  Yes|                     8|                   6|                 1|       No|\n",
      "|   CLG0017| 71|           8.74|  8.4|                   6|                   No|                     0|                   5|                 2|       No|\n",
      "|   CLG0053| 74|           6.99| 7.31|                   7|                   No|                     0|                   1|                 2|       No|\n",
      "|   CLG0040| 91|           6.05|  5.8|                   3|                   No|                     4|                   2|                 3|       No|\n",
      "|   CLG0070| 84|           7.61| 7.54|                   6|                   No|                     0|                  10|                 0|       No|\n",
      "|   CLG0050|104|           9.61|10.01|                  10|                  Yes|                     9|                   2|                 4|       No|\n",
      "|   CLG0068| 86|            8.2| 8.15|                   7|                   No|                     8|                   9|                 4|      Yes|\n",
      "|   CLG0015| 78|           5.86| 5.56|                   7|                  Yes|                     3|                   6|                 2|       No|\n",
      "+----------+---+---------------+-----+--------------------+---------------------+----------------------+--------------------+------------------+---------+\n",
      "only showing top 20 rows\n"
     ]
    }
   ],
   "source": [
    "df.show()"
   ]
  },
  {
   "cell_type": "code",
   "execution_count": null,
   "id": "8c1bc5ff",
   "metadata": {},
   "outputs": [
    {
     "name": "stdout",
     "output_type": "stream",
     "text": [
      "+----------+---+---------------+-----+--------------------+---------------------+----------------------+--------------------+------------------+---------+\n",
      "|College_ID| IQ|Prev_Sem_Result| CGPA|Academic_Performance|Internship_Experience|Extra_Curricular_Score|Communication_Skills|Projects_Completed|Placement|\n",
      "+----------+---+---------------+-----+--------------------+---------------------+----------------------+--------------------+------------------+---------+\n",
      "|   CLG0064|103|           8.64| 9.01|                   7|                  Yes|                     8|                   6|                 1|       No|\n",
      "|   CLG0050|104|           9.61|10.01|                  10|                  Yes|                     9|                   2|                 4|       No|\n",
      "|   CLG0087| 78|           8.67| 9.17|                   7|                  Yes|                    10|                  10|                 2|      Yes|\n",
      "|   CLG0024|101|           9.07| 9.45|                   2|                   No|                     2|                   7|                 2|       No|\n",
      "|   CLG0025| 95|           9.18| 9.61|                   4|                  Yes|                     3|                   3|                 3|       No|\n",
      "|   CLG0077| 90|           9.68| 9.58|                   9|                  Yes|                    10|                   1|                 4|       No|\n",
      "|   CLG0073|112|           8.77| 9.01|                   3|                  Yes|                     1|                   9|                 4|      Yes|\n",
      "|   CLG0097| 81|           8.61| 9.11|                   9|                  Yes|                     8|                   7|                 4|       No|\n",
      "|   CLG0014| 70|           9.39| 9.27|                   8|                   No|                     4|                   3|                 4|       No|\n",
      "|   CLG0077|115|           9.52| 9.56|                   5|                   No|                     4|                   6|                 3|      Yes|\n",
      "|   CLG0030|113|           9.54| 9.38|                   3|                   No|                     2|                  10|                 3|      Yes|\n",
      "|   CLG0046| 95|           9.63| 9.96|                   5|                   No|                     1|                   5|                 3|       No|\n",
      "|   CLG0069|105|           9.62| 9.12|                   1|                  Yes|                     1|                   2|                 1|       No|\n",
      "|   CLG0088|123|           8.74| 9.11|                   8|                   No|                     2|                   9|                 0|      Yes|\n",
      "|   CLG0097|101|           9.47| 9.44|                   2|                   No|                     5|                   9|                 4|      Yes|\n",
      "|   CLG0066|104|           9.19| 9.39|                  10|                  Yes|                     3|                  10|                 4|      Yes|\n",
      "|   CLG0015|107|           9.37| 9.85|                   8|                  Yes|                     7|                   1|                 5|       No|\n",
      "|   CLG0016|104|           8.81| 9.26|                  10|                   No|                    10|                   9|                 5|      Yes|\n",
      "|   CLG0019| 96|           9.68| 9.19|                   1|                  Yes|                    10|                   4|                 0|       No|\n",
      "|   CLG0011| 98|           9.62| 9.57|                   9|                   No|                     5|                   9|                 5|      Yes|\n",
      "+----------+---+---------------+-----+--------------------+---------------------+----------------------+--------------------+------------------+---------+\n",
      "only showing top 20 rows\n",
      "2050\n",
      "10000\n"
     ]
    }
   ],
   "source": [
    "df2=df.filter('CGPA>9')\n",
    "df2=df.filter(col('CGPA')>9)\n",
    "df2.show()\n",
    "\n",
    "print(df2.count())\n",
    "print(df.count())\n"
   ]
  },
  {
   "cell_type": "code",
   "execution_count": null,
   "id": "e96be6d8",
   "metadata": {},
   "outputs": [],
   "source": [
    "df3=df.withColumn('CGPA as %',df.CGPA*10)"
   ]
  },
  {
   "cell_type": "code",
   "execution_count": null,
   "id": "6249188f",
   "metadata": {},
   "outputs": [
    {
     "name": "stdout",
     "output_type": "stream",
     "text": [
      "+-----+------------------+\n",
      "| CGPA|         CGPA as %|\n",
      "+-----+------------------+\n",
      "| 6.28|62.800000000000004|\n",
      "| 5.37|              53.7|\n",
      "| 5.83|              58.3|\n",
      "| 5.75|              57.5|\n",
      "| 7.69|              76.9|\n",
      "| 5.32|              53.2|\n",
      "| 6.58|              65.8|\n",
      "| 8.76|              87.6|\n",
      "| 6.33|              63.3|\n",
      "|  8.6|              86.0|\n",
      "|  8.9|              89.0|\n",
      "| 6.51|              65.1|\n",
      "| 9.01|              90.1|\n",
      "|  8.4|              84.0|\n",
      "| 7.31|              73.1|\n",
      "|  5.8|              58.0|\n",
      "| 7.54|              75.4|\n",
      "|10.01|             100.1|\n",
      "| 8.15|              81.5|\n",
      "| 5.56|55.599999999999994|\n",
      "| 8.07|              80.7|\n",
      "| 7.11| 71.10000000000001|\n",
      "| 8.22|              82.2|\n",
      "| 9.17|              91.7|\n",
      "| 7.86| 78.60000000000001|\n",
      "| 9.45|              94.5|\n",
      "| 8.86|              88.6|\n",
      "| 8.48| 84.80000000000001|\n",
      "| 5.33|              53.3|\n",
      "| 9.61|              96.1|\n",
      "| 9.58|              95.8|\n",
      "|  6.1|              61.0|\n",
      "| 7.02| 70.19999999999999|\n",
      "| 6.51|              65.1|\n",
      "| 9.01|              90.1|\n",
      "| 9.11|              91.1|\n",
      "| 5.97|59.699999999999996|\n",
      "| 9.27| 92.69999999999999|\n",
      "| 5.96|              59.6|\n",
      "| 8.86|              88.6|\n",
      "| 6.98| 69.80000000000001|\n",
      "| 6.39|              63.9|\n",
      "| 5.51|55.099999999999994|\n",
      "| 5.89|              58.9|\n",
      "| 8.72|              87.2|\n",
      "| 8.16|              81.6|\n",
      "| 5.16|              51.6|\n",
      "| 5.14|              51.4|\n",
      "| 5.11|              51.1|\n",
      "| 8.48| 84.80000000000001|\n",
      "+-----+------------------+\n",
      "only showing top 50 rows\n"
     ]
    }
   ],
   "source": [
    "df3.select('CGPA','CGPA as %').show(50)"
   ]
  },
  {
   "cell_type": "markdown",
   "id": "3a1d65ea",
   "metadata": {},
   "source": []
  },
  {
   "cell_type": "code",
   "execution_count": null,
   "id": "0848723f",
   "metadata": {},
   "outputs": [
    {
     "name": "stdout",
     "output_type": "stream",
     "text": [
      "10000\n",
      "+----------+---+---------------+-----+--------------------+---------------------+----------------------+--------------------+------------------+---------+\n",
      "|College_ID| IQ|Prev_Sem_Result| CGPA|Academic_Performance|Internship_Experience|Extra_Curricular_Score|Communication_Skills|Projects_Completed|Placement|\n",
      "+----------+---+---------------+-----+--------------------+---------------------+----------------------+--------------------+------------------+---------+\n",
      "|   CLG0030|107|           6.61| 6.28|                   8|                   No|                     8|                   8|                 4|       No|\n",
      "|   CLG0061| 97|           5.52| 5.37|                   8|                   No|                     7|                   8|                 0|       No|\n",
      "|   CLG0036|109|           5.36| 5.83|                   9|                   No|                     3|                   1|                 1|       No|\n",
      "|   CLG0055|122|           5.47| 5.75|                   6|                  Yes|                     1|                   6|                 1|       No|\n",
      "|   CLG0004| 96|           7.91| 7.69|                   7|                   No|                     8|                  10|                 2|       No|\n",
      "|   CLG0015| 96|           5.26| 5.32|                   7|                   No|                     5|                   8|                 0|       No|\n",
      "|   CLG0071|123|           6.68| 6.58|                   5|                   No|                     7|                   8|                 2|      Yes|\n",
      "|   CLG0096|111|           8.77| 8.76|                   7|                   No|                     3|                   1|                 2|      Yes|\n",
      "|   CLG0097| 92|           6.47| 6.33|                   9|                   No|                     7|                   8|                 5|       No|\n",
      "|   CLG0057|108|           8.82|  8.6|                   4|                   No|                     5|                   9|                 1|       No|\n",
      "|   CLG0063| 93|           8.73|  8.9|                   2|                  Yes|                     5|                   6|                 0|       No|\n",
      "|   CLG0077| 93|           6.23| 6.51|                   8|                   No|                     5|                   7|                 4|       No|\n",
      "|   CLG0064|103|           8.64| 9.01|                   7|                  Yes|                     8|                   6|                 1|       No|\n",
      "|   CLG0017| 71|           8.74|  8.4|                   6|                   No|                     0|                   5|                 2|       No|\n",
      "|   CLG0053| 74|           6.99| 7.31|                   7|                   No|                     0|                   1|                 2|       No|\n",
      "|   CLG0040| 91|           6.05|  5.8|                   3|                   No|                     4|                   2|                 3|       No|\n",
      "|   CLG0070| 84|           7.61| 7.54|                   6|                   No|                     0|                  10|                 0|       No|\n",
      "|   CLG0050|104|           9.61|10.01|                  10|                  Yes|                     9|                   2|                 4|       No|\n",
      "|   CLG0068| 86|            8.2| 8.15|                   7|                   No|                     8|                   9|                 4|      Yes|\n",
      "|   CLG0015| 78|           5.86| 5.56|                   7|                  Yes|                     3|                   6|                 2|       No|\n",
      "+----------+---+---------------+-----+--------------------+---------------------+----------------------+--------------------+------------------+---------+\n",
      "only showing top 20 rows\n"
     ]
    }
   ],
   "source": [
    "print(df.count())\n",
    "df.show()\n",
    "\n"
   ]
  },
  {
   "cell_type": "code",
   "execution_count": null,
   "id": "1f998933",
   "metadata": {},
   "outputs": [
    {
     "name": "stdout",
     "output_type": "stream",
     "text": [
      "+---------+\n",
      "|sum(CGPA)|\n",
      "+---------+\n",
      "| 75323.79|\n",
      "+---------+\n",
      "\n",
      "+---------+\n",
      "|avg(CGPA)|\n",
      "+---------+\n",
      "| 7.532379|\n",
      "+---------+\n",
      "\n",
      "+---------+\n",
      "|min(CGPA)|\n",
      "+---------+\n",
      "|     4.54|\n",
      "+---------+\n",
      "\n"
     ]
    }
   ],
   "source": [
    "from pyspark.sql.functions import sum, avg, min,max,count\n",
    "\n",
    "df.select(sum('CGPA')).show()\n",
    "df.select(avg('CGPA')).show()\n",
    "df.select(min('CGPA')).show()"
   ]
  },
  {
   "cell_type": "code",
   "execution_count": null,
   "id": "765d7d2e",
   "metadata": {},
   "outputs": [
    {
     "name": "stdout",
     "output_type": "stream",
     "text": [
      "+----------+-----+\n",
      "|College_ID| CGPA|\n",
      "+----------+-----+\n",
      "|   CLG0030| 6.28|\n",
      "|   CLG0061| 5.37|\n",
      "|   CLG0036| 5.83|\n",
      "|   CLG0055| 5.75|\n",
      "|   CLG0004| 7.69|\n",
      "|   CLG0015| 5.32|\n",
      "|   CLG0071| 6.58|\n",
      "|   CLG0096| 8.76|\n",
      "|   CLG0097| 6.33|\n",
      "|   CLG0057|  8.6|\n",
      "|   CLG0063|  8.9|\n",
      "|   CLG0077| 6.51|\n",
      "|   CLG0064| 9.01|\n",
      "|   CLG0017|  8.4|\n",
      "|   CLG0053| 7.31|\n",
      "|   CLG0040|  5.8|\n",
      "|   CLG0070| 7.54|\n",
      "|   CLG0050|10.01|\n",
      "|   CLG0068| 8.15|\n",
      "|   CLG0015| 5.56|\n",
      "+----------+-----+\n",
      "only showing top 20 rows\n"
     ]
    }
   ],
   "source": [
    "df_new=df.select('College_ID',\"CGPA\")\n",
    "df_new.show()"
   ]
  },
  {
   "cell_type": "code",
   "execution_count": null,
   "id": "163d3d12",
   "metadata": {},
   "outputs": [],
   "source": [
    "df.write.option('header',True).csv('/home/5AIMLA2/Documents/230962322/BDA-LAB/export_csv1.cs')"
   ]
  },
  {
   "cell_type": "markdown",
   "id": "0cbb5428",
   "metadata": {},
   "source": [
    "Q5. Load a text file into an rdd assuming the file is stored locally.\n",
    "    a) Find the total number of words and compare it with the unique words in the file.\n",
    "    b) Find the number of words that begin with a specific letter\n",
    "    c) Count the frequency of each word in the file and save the output in a separate file."
   ]
  },
  {
   "cell_type": "code",
   "execution_count": null,
   "id": "af02bbf5",
   "metadata": {},
   "outputs": [
    {
     "name": "stderr",
     "output_type": "stream",
     "text": [
      "<>:42: SyntaxWarning: invalid escape sequence '\\c'\n",
      "<>:42: SyntaxWarning: invalid escape sequence '\\c'\n",
      "C:\\Users\\pratyush\\AppData\\Local\\Temp\\ipykernel_13788\\433463835.py:42: SyntaxWarning: invalid escape sequence '\\c'\n",
      "  output_path = \"D:\\code\\jupyter\\BDA LAB\"\n",
      "C:\\Users\\pratyush\\AppData\\Local\\Temp\\ipykernel_13788\\433463835.py:42: SyntaxWarning: invalid escape sequence '\\c'\n",
      "  output_path = \"D:\\code\\jupyter\\BDA LAB\"\n"
     ]
    },
    {
     "ename": "ModuleNotFoundError",
     "evalue": "No module named 'pyspark'",
     "output_type": "error",
     "traceback": [
      "\u001b[31m---------------------------------------------------------------------------\u001b[39m",
      "\u001b[31mModuleNotFoundError\u001b[39m                       Traceback (most recent call last)",
      "\u001b[36mCell\u001b[39m\u001b[36m \u001b[39m\u001b[32mIn[1]\u001b[39m\u001b[32m, line 1\u001b[39m\n\u001b[32m----> \u001b[39m\u001b[32m1\u001b[39m \u001b[38;5;28;01mfrom\u001b[39;00m\u001b[38;5;250m \u001b[39m\u001b[34;01mpyspark\u001b[39;00m\u001b[34;01m.\u001b[39;00m\u001b[34;01msql\u001b[39;00m\u001b[38;5;250m \u001b[39m\u001b[38;5;28;01mimport\u001b[39;00m SparkSession\n\u001b[32m      3\u001b[39m \u001b[38;5;66;03m# Initialize SparkSession (and get SparkContext from it)\u001b[39;00m\n\u001b[32m      4\u001b[39m spark = SparkSession.builder.appName(\u001b[33m\"\u001b[39m\u001b[33mRDD Word Count\u001b[39m\u001b[33m\"\u001b[39m).master(\u001b[33m\"\u001b[39m\u001b[33mlocal[*]\u001b[39m\u001b[33m\"\u001b[39m).getOrCreate()\n",
      "\u001b[31mModuleNotFoundError\u001b[39m: No module named 'pyspark'"
     ]
    }
   ],
   "source": [
    "from pyspark.sql import SparkSession\n",
    "\n",
    "spark = SparkSession.builder.appName(\"RDD Word Count\").master(\"local[*]\").getOrCreate()\n",
    "\n",
    "sc = spark.sparkContext\n",
    "\n",
    "\n",
    "file_path = \"/home/5AIMLA2/Documents/230962322/BDA-LAB/poem.txt\"\n",
    "\n",
    "#  text file into an RDD (each element is a line)\n",
    "lines = sc.textFile(file_path)\n",
    "\n",
    "# Split lines into words, flatten the result\n",
    "words = lines.flatMap(lambda line: line.split())\n",
    "\n",
    "total_words = words.count()\n",
    "\n",
    "unique_words = words.distinct().count()\n",
    "\n",
    "print(f\"Total number of words: {total_words}\")\n",
    "print(f\"Number of unique words: {unique_words}\")\n",
    "\n",
    "letter = 'i'\n",
    "words_starting_with_letter = words.filter(lambda w: w.lower().startswith(letter)).count()\n",
    "\n",
    "print(f\"Number of words starting with '{letter}': {words_starting_with_letter}\")\n",
    "\n",
    "# c) Count the frequency of each word\n",
    "word_counts = words.map(lambda w: (w.lower(), 1)).reduceByKey(lambda a, b: a + b)\n",
    "\n",
    "\n",
    "output_path = \"D:\\code\\jupyter\\BDA LAB\"\n",
    "word_counts.saveAsTextFile(\"freq_word.txt\")\n",
    "\n",
    "print(f\"Word counts saved to {output_path}\")\n",
    "\n",
    "# Stop Spark session\n",
    "spark.stop()\n"
   ]
  },
  {
   "cell_type": "code",
   "execution_count": null,
   "id": "93bc924f",
   "metadata": {},
   "outputs": [],
   "source": []
  }
 ],
 "metadata": {
  "kernelspec": {
   "display_name": "pyspark_env",
   "language": "python",
   "name": "python3"
  },
  "language_info": {
   "codemirror_mode": {
    "name": "ipython",
    "version": 3
   },
   "file_extension": ".py",
   "mimetype": "text/x-python",
   "name": "python",
   "nbconvert_exporter": "python",
   "pygments_lexer": "ipython3",
   "version": "3.12.7"
  }
 },
 "nbformat": 4,
 "nbformat_minor": 5
}
